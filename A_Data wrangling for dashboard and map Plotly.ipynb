{
 "cells": [
  {
   "cell_type": "markdown",
   "metadata": {
    "collapsed": true
   },
   "source": [
    "#### This project entailed\n",
    "* Conceptualing and executing a visualization. The map is the first component of dashboard project. For this map, I found and combined multiple data sources to illustrate what I found interesting in the data. The map illustrates states with the highest proportion (relative to their populations) of admissions for substance abuse treatment. It also indicates the three most common substances that are abused, as indicated by these treatment admissions (excluding alcohol).\n",
    "* Working with massive data sets. Data for 23 years' of case details for substance abuse treatment admissions were combined for this analysis. This totaled 41,000,000 records.\n",
    "* Extensive data wrangling.\n",
    "* Sluething the source of problematic data. When preparing the final map, some data were missing; I tracked down the source of the omission.\n"
   ]
  },
  {
   "cell_type": "markdown",
   "metadata": {},
   "source": [
    "#### This notebook includes all the data wrangling for the project.\n",
    "#### While other projects entailed different types of data wrangling, \n",
    "#### this project has widest ranging data wrangling, and the largest data sets. "
   ]
  },
  {
   "cell_type": "markdown",
   "metadata": {},
   "source": [
    "#### This notebook reflects the final python code, after missing data were identified and the data wrangling was changed appropriately."
   ]
  },
  {
   "cell_type": "code",
   "execution_count": 1,
   "metadata": {
    "collapsed": true
   },
   "outputs": [],
   "source": [
    "import pandas as pd\n",
    "import numpy as np\n",
    "pd.set_option('mode.chained_assignment', None)\n",
    "# \n",
    "pd.set_option('display.height', 1000)\n",
    "pd.set_option('display.max_rows', 500)\n",
    "pd.set_option('display.max_columns', 500)\n",
    "pd.set_option('display.width', 1000)\n",
    "\n",
    "\n",
    "import warnings\n",
    "warnings.filterwarnings(\"ignore\")"
   ]
  },
  {
   "cell_type": "code",
   "execution_count": 2,
   "metadata": {
    "collapsed": true
   },
   "outputs": [],
   "source": [
    "# Create data file with one row for each treatment admissions 1992 - 2014\n",
    "\n",
    "\n",
    "years = range(1992, 2015)\n",
    "pieces = []\n",
    "\n",
    "for year in years: \n",
    "    path = 'C:/python/A%d.tsv' % year\n",
    "    frame = pd.read_csv(path, sep='\\t', usecols=['GENDER', 'RACE', 'STFIPS', 'SUB1','YEAR'], low_memory=False)\n",
    "#    frame = frame_unf[(frame_unf.sub1 == 2) & (frame_unf.stfips == 25)] \n",
    "    pieces.append(frame)\n",
    "\n",
    "df = pd.concat(pieces, ignore_index = True)"
   ]
  },
  {
   "cell_type": "code",
   "execution_count": 3,
   "metadata": {},
   "outputs": [
    {
     "data": {
      "text/html": [
       "<div>\n",
       "<style scoped>\n",
       "    .dataframe tbody tr th:only-of-type {\n",
       "        vertical-align: middle;\n",
       "    }\n",
       "\n",
       "    .dataframe tbody tr th {\n",
       "        vertical-align: top;\n",
       "    }\n",
       "\n",
       "    .dataframe thead th {\n",
       "        text-align: right;\n",
       "    }\n",
       "</style>\n",
       "<table border=\"1\" class=\"dataframe\">\n",
       "  <thead>\n",
       "    <tr style=\"text-align: right;\">\n",
       "      <th></th>\n",
       "      <th>YEAR</th>\n",
       "      <th>GENDER</th>\n",
       "      <th>RACE</th>\n",
       "      <th>STFIPS</th>\n",
       "      <th>SUB1</th>\n",
       "    </tr>\n",
       "  </thead>\n",
       "  <tbody>\n",
       "    <tr>\n",
       "      <th>0</th>\n",
       "      <td>1992</td>\n",
       "      <td>2</td>\n",
       "      <td>4</td>\n",
       "      <td>39</td>\n",
       "      <td>2</td>\n",
       "    </tr>\n",
       "    <tr>\n",
       "      <th>1</th>\n",
       "      <td>1992</td>\n",
       "      <td>1</td>\n",
       "      <td>5</td>\n",
       "      <td>26</td>\n",
       "      <td>2</td>\n",
       "    </tr>\n",
       "    <tr>\n",
       "      <th>2</th>\n",
       "      <td>1992</td>\n",
       "      <td>2</td>\n",
       "      <td>4</td>\n",
       "      <td>31</td>\n",
       "      <td>3</td>\n",
       "    </tr>\n",
       "    <tr>\n",
       "      <th>3</th>\n",
       "      <td>1992</td>\n",
       "      <td>1</td>\n",
       "      <td>5</td>\n",
       "      <td>31</td>\n",
       "      <td>2</td>\n",
       "    </tr>\n",
       "    <tr>\n",
       "      <th>4</th>\n",
       "      <td>1992</td>\n",
       "      <td>2</td>\n",
       "      <td>5</td>\n",
       "      <td>27</td>\n",
       "      <td>2</td>\n",
       "    </tr>\n",
       "  </tbody>\n",
       "</table>\n",
       "</div>"
      ],
      "text/plain": [
       "   YEAR  GENDER  RACE  STFIPS  SUB1\n",
       "0  1992       2     4      39     2\n",
       "1  1992       1     5      26     2\n",
       "2  1992       2     4      31     3\n",
       "3  1992       1     5      31     2\n",
       "4  1992       2     5      27     2"
      ]
     },
     "execution_count": 3,
     "metadata": {},
     "output_type": "execute_result"
    }
   ],
   "source": [
    "df.head()"
   ]
  },
  {
   "cell_type": "code",
   "execution_count": 4,
   "metadata": {
    "collapsed": true
   },
   "outputs": [],
   "source": [
    "df.to_pickle (\"C:/Users/rmbrm/Documents/DS_WP/Dashboard/initial_data\", compression='infer', protocol=4)"
   ]
  },
  {
   "cell_type": "code",
   "execution_count": 5,
   "metadata": {
    "collapsed": true
   },
   "outputs": [],
   "source": [
    "raw = pd.read_pickle(\"C:/Users/rmbrm/Documents/DS_WP/Dashboard/initial_data\")"
   ]
  },
  {
   "cell_type": "code",
   "execution_count": 6,
   "metadata": {
    "collapsed": true
   },
   "outputs": [],
   "source": [
    "# create a dataframe tallying yearly substance abuse admission by type and other variables for future use\n",
    "# NOT PART OF THE MAP PROJECT; created and filed for future use.\n",
    "\n",
    "years = range(1992, 2015)\n",
    "pieces = []\n",
    "\n",
    "for year in years: \n",
    "    year_string = str(year)\n",
    "    dfcx = pd.DataFrame(raw.groupby('YEAR').get_group(year).reset_index()).drop('index', axis = 1)\n",
    "    \n",
    "    df = dfcx['GENDER'].value_counts().to_frame()\n",
    "    df.index.names = ['year_string']\n",
    "    df = df.transpose()\n",
    "    df = df.rename({'GENDER': 'year_string'}, axis='index')\n",
    "    gender = df.rename(index=str, columns={2: \"female\", 1: \"male\", -9: \"gender_miss\"})\n",
    "    \n",
    "    \n",
    "    df = dfcx['SUB1'].value_counts().to_frame()\n",
    "    df.index.names = ['year_string']\n",
    "    df = df.transpose()\n",
    "    df = df.rename({'SUB1': 'year_string'}, axis='index')\n",
    "    sub1 = df.rename(index=str, columns={2: \"ALCOHOL\", 3: \"COCAINE\", 4: \"MARIJ\", 5: \"HEROINE\", 7: \"OPIATES\", 10: \"METH\"})\n",
    "    \n",
    "    df = dfcx['RACE'].value_counts().to_frame()\n",
    "    df.index.names = ['year_string']\n",
    "    df = df.transpose()\n",
    "    df = df.rename({'RACE': 'year_string'}, axis='index')\n",
    "    df = df.rename(index=str, columns={4: \"black\", 5: \"white\"})\n",
    "    race = df.filter(['black', 'white'])\n",
    "    \n",
    "    df = dfcx['YEAR'].value_counts().to_frame()\n",
    "    df.index.names = ['year_string']\n",
    "    df = df.transpose()\n",
    "    df = df.rename({'YEAR': 'year_string'}, axis='index')\n",
    "    total = df.rename(index=str, columns={year: \"total\"})\n",
    "    demo = pd.concat([sub1, gender, race, total], axis=1)\n",
    "    pieces.append(demo)\n",
    "tallies = pd.concat(pieces, ignore_index = True)"
   ]
  },
  {
   "cell_type": "code",
   "execution_count": 7,
   "metadata": {
    "collapsed": true
   },
   "outputs": [],
   "source": [
    "# add a variable for year\n",
    "# not part of the map project; file was created for another part of this project.\n",
    "\n",
    "when = pd.Series([1992, 1993, 1994, 1995, 1996, 1997, 1998, 1999, 2000, 2001, 2002, 2003, 2004, 2005, 2006, 2007, 2008, 2009, 2010, 2011, 2012, 2013, 2014], index =[0, 1, 2, 3, 4, 5, 6, 7, 8, 9, 10, 11, 12, 13, 14, 15, 16, 17, 18, 19, 20, 21, 22])\n"
   ]
  },
  {
   "cell_type": "code",
   "execution_count": 8,
   "metadata": {
    "collapsed": true
   },
   "outputs": [],
   "source": [
    "# not part of the map project; file was created for another part of this project.\n",
    "tallies ['YEAR'] = when"
   ]
  },
  {
   "cell_type": "code",
   "execution_count": 9,
   "metadata": {
    "collapsed": true
   },
   "outputs": [],
   "source": [
    "# not part of the map project; file was created for another part of this project.\n",
    "tallies.to_pickle (\"C:/Users/rmbrm/Documents/DS_WP/Dashboard/annual_counts\", compression='infer', protocol=4)"
   ]
  },
  {
   "cell_type": "markdown",
   "metadata": {},
   "source": [
    "#### Data wrangling for map making: Selecting, formatting and combining data.\n",
    "#### Step 1: Using most recent data, find the three most popular drugs in each state."
   ]
  },
  {
   "cell_type": "code",
   "execution_count": 10,
   "metadata": {
    "collapsed": true
   },
   "outputs": [],
   "source": [
    "df= pd.read_pickle(\"C:/Users/rmbrm/Documents/DS_WP/Dashboard/initial_data\")"
   ]
  },
  {
   "cell_type": "code",
   "execution_count": 11,
   "metadata": {
    "collapsed": true
   },
   "outputs": [],
   "source": [
    "dfa = df.rename(index=str, columns={\"YEAR\": \"year\", \"GENDER\": \"gender\", \"RACE\": \"race\", \"STFIPS\": \"stfips\", \"SUB1\": \"sub1\"})"
   ]
  },
  {
   "cell_type": "code",
   "execution_count": 12,
   "metadata": {
    "scrolled": false
   },
   "outputs": [
    {
     "data": {
      "text/html": [
       "<div>\n",
       "<style scoped>\n",
       "    .dataframe tbody tr th:only-of-type {\n",
       "        vertical-align: middle;\n",
       "    }\n",
       "\n",
       "    .dataframe tbody tr th {\n",
       "        vertical-align: top;\n",
       "    }\n",
       "\n",
       "    .dataframe thead th {\n",
       "        text-align: right;\n",
       "    }\n",
       "</style>\n",
       "<table border=\"1\" class=\"dataframe\">\n",
       "  <thead>\n",
       "    <tr style=\"text-align: right;\">\n",
       "      <th></th>\n",
       "      <th>year</th>\n",
       "      <th>gender</th>\n",
       "      <th>race</th>\n",
       "      <th>stfips</th>\n",
       "      <th>sub1</th>\n",
       "    </tr>\n",
       "  </thead>\n",
       "  <tbody>\n",
       "    <tr>\n",
       "      <th>41047260</th>\n",
       "      <td>2014</td>\n",
       "      <td>1</td>\n",
       "      <td>5</td>\n",
       "      <td>8</td>\n",
       "      <td>10</td>\n",
       "    </tr>\n",
       "    <tr>\n",
       "      <th>41047261</th>\n",
       "      <td>2014</td>\n",
       "      <td>1</td>\n",
       "      <td>4</td>\n",
       "      <td>6</td>\n",
       "      <td>5</td>\n",
       "    </tr>\n",
       "    <tr>\n",
       "      <th>41047262</th>\n",
       "      <td>2014</td>\n",
       "      <td>2</td>\n",
       "      <td>5</td>\n",
       "      <td>41</td>\n",
       "      <td>5</td>\n",
       "    </tr>\n",
       "    <tr>\n",
       "      <th>41047263</th>\n",
       "      <td>2014</td>\n",
       "      <td>1</td>\n",
       "      <td>13</td>\n",
       "      <td>6</td>\n",
       "      <td>10</td>\n",
       "    </tr>\n",
       "    <tr>\n",
       "      <th>41047264</th>\n",
       "      <td>2014</td>\n",
       "      <td>1</td>\n",
       "      <td>2</td>\n",
       "      <td>8</td>\n",
       "      <td>10</td>\n",
       "    </tr>\n",
       "  </tbody>\n",
       "</table>\n",
       "</div>"
      ],
      "text/plain": [
       "          year  gender  race  stfips  sub1\n",
       "41047260  2014       1     5       8    10\n",
       "41047261  2014       1     4       6     5\n",
       "41047262  2014       2     5      41     5\n",
       "41047263  2014       1    13       6    10\n",
       "41047264  2014       1     2       8    10"
      ]
     },
     "execution_count": 12,
     "metadata": {},
     "output_type": "execute_result"
    }
   ],
   "source": [
    "dfa.tail()"
   ]
  },
  {
   "cell_type": "code",
   "execution_count": 13,
   "metadata": {
    "collapsed": true
   },
   "outputs": [],
   "source": [
    "dfa.to_pickle (\"C:/Users/rmbrm/Documents/DS_WP/Dashboard/map_data\", compression='infer', protocol=4)"
   ]
  },
  {
   "cell_type": "code",
   "execution_count": 14,
   "metadata": {
    "scrolled": true
   },
   "outputs": [],
   "source": [
    "# select most current data for map\n",
    "dfb = dfa.loc[dfa['year'] == 2014]\n"
   ]
  },
  {
   "cell_type": "code",
   "execution_count": 15,
   "metadata": {
    "scrolled": true
   },
   "outputs": [
    {
     "data": {
      "text/html": [
       "<div>\n",
       "<style scoped>\n",
       "    .dataframe tbody tr th:only-of-type {\n",
       "        vertical-align: middle;\n",
       "    }\n",
       "\n",
       "    .dataframe tbody tr th {\n",
       "        vertical-align: top;\n",
       "    }\n",
       "\n",
       "    .dataframe thead th {\n",
       "        text-align: right;\n",
       "    }\n",
       "</style>\n",
       "<table border=\"1\" class=\"dataframe\">\n",
       "  <thead>\n",
       "    <tr style=\"text-align: right;\">\n",
       "      <th></th>\n",
       "      <th>stfips</th>\n",
       "      <th>sub1</th>\n",
       "    </tr>\n",
       "  </thead>\n",
       "  <tbody>\n",
       "    <tr>\n",
       "      <th>39432907</th>\n",
       "      <td>29</td>\n",
       "      <td>3</td>\n",
       "    </tr>\n",
       "    <tr>\n",
       "      <th>39432908</th>\n",
       "      <td>26</td>\n",
       "      <td>2</td>\n",
       "    </tr>\n",
       "    <tr>\n",
       "      <th>39432909</th>\n",
       "      <td>18</td>\n",
       "      <td>2</td>\n",
       "    </tr>\n",
       "    <tr>\n",
       "      <th>39432910</th>\n",
       "      <td>17</td>\n",
       "      <td>2</td>\n",
       "    </tr>\n",
       "    <tr>\n",
       "      <th>39432911</th>\n",
       "      <td>18</td>\n",
       "      <td>2</td>\n",
       "    </tr>\n",
       "  </tbody>\n",
       "</table>\n",
       "</div>"
      ],
      "text/plain": [
       "          stfips  sub1\n",
       "39432907      29     3\n",
       "39432908      26     2\n",
       "39432909      18     2\n",
       "39432910      17     2\n",
       "39432911      18     2"
      ]
     },
     "execution_count": 15,
     "metadata": {},
     "output_type": "execute_result"
    }
   ],
   "source": [
    "# keep variables of interest\n",
    "dfb.drop(dfb.iloc[:, 0:3], inplace=True, axis=1)\n",
    "dfb.head()"
   ]
  },
  {
   "cell_type": "code",
   "execution_count": 16,
   "metadata": {
    "collapsed": true
   },
   "outputs": [],
   "source": [
    "# select most popular drugs\n",
    "filter_list = [3, 4, 5, 7, 10]\n",
    "dfc = dfb[dfb.sub1.isin(filter_list)]"
   ]
  },
  {
   "cell_type": "code",
   "execution_count": 17,
   "metadata": {
    "collapsed": true
   },
   "outputs": [],
   "source": [
    "# create variable for counts of drugs by state\n",
    "\n",
    "dfd = dfc.groupby(['stfips', 'sub1'], as_index=False).size().reset_index().rename(columns={0: 'count'})"
   ]
  },
  {
   "cell_type": "code",
   "execution_count": 18,
   "metadata": {
    "collapsed": true
   },
   "outputs": [],
   "source": [
    "dfd.sort_values(['stfips', 'count'], ascending=[True, False], inplace=True)\n"
   ]
  },
  {
   "cell_type": "code",
   "execution_count": 19,
   "metadata": {},
   "outputs": [
    {
     "data": {
      "text/html": [
       "<div>\n",
       "<style scoped>\n",
       "    .dataframe tbody tr th:only-of-type {\n",
       "        vertical-align: middle;\n",
       "    }\n",
       "\n",
       "    .dataframe tbody tr th {\n",
       "        vertical-align: top;\n",
       "    }\n",
       "\n",
       "    .dataframe thead th {\n",
       "        text-align: right;\n",
       "    }\n",
       "</style>\n",
       "<table border=\"1\" class=\"dataframe\">\n",
       "  <thead>\n",
       "    <tr style=\"text-align: right;\">\n",
       "      <th></th>\n",
       "      <th>stfips</th>\n",
       "      <th>sub1</th>\n",
       "      <th>count</th>\n",
       "    </tr>\n",
       "  </thead>\n",
       "  <tbody>\n",
       "    <tr>\n",
       "      <th>1</th>\n",
       "      <td>1</td>\n",
       "      <td>4</td>\n",
       "      <td>2187</td>\n",
       "    </tr>\n",
       "    <tr>\n",
       "      <th>3</th>\n",
       "      <td>1</td>\n",
       "      <td>7</td>\n",
       "      <td>1438</td>\n",
       "    </tr>\n",
       "    <tr>\n",
       "      <th>4</th>\n",
       "      <td>1</td>\n",
       "      <td>10</td>\n",
       "      <td>1076</td>\n",
       "    </tr>\n",
       "    <tr>\n",
       "      <th>0</th>\n",
       "      <td>1</td>\n",
       "      <td>3</td>\n",
       "      <td>912</td>\n",
       "    </tr>\n",
       "    <tr>\n",
       "      <th>2</th>\n",
       "      <td>1</td>\n",
       "      <td>5</td>\n",
       "      <td>562</td>\n",
       "    </tr>\n",
       "    <tr>\n",
       "      <th>6</th>\n",
       "      <td>2</td>\n",
       "      <td>4</td>\n",
       "      <td>589</td>\n",
       "    </tr>\n",
       "    <tr>\n",
       "      <th>7</th>\n",
       "      <td>2</td>\n",
       "      <td>5</td>\n",
       "      <td>545</td>\n",
       "    </tr>\n",
       "    <tr>\n",
       "      <th>9</th>\n",
       "      <td>2</td>\n",
       "      <td>10</td>\n",
       "      <td>317</td>\n",
       "    </tr>\n",
       "    <tr>\n",
       "      <th>8</th>\n",
       "      <td>2</td>\n",
       "      <td>7</td>\n",
       "      <td>266</td>\n",
       "    </tr>\n",
       "    <tr>\n",
       "      <th>5</th>\n",
       "      <td>2</td>\n",
       "      <td>3</td>\n",
       "      <td>59</td>\n",
       "    </tr>\n",
       "  </tbody>\n",
       "</table>\n",
       "</div>"
      ],
      "text/plain": [
       "   stfips  sub1  count\n",
       "1       1     4   2187\n",
       "3       1     7   1438\n",
       "4       1    10   1076\n",
       "0       1     3    912\n",
       "2       1     5    562\n",
       "6       2     4    589\n",
       "7       2     5    545\n",
       "9       2    10    317\n",
       "8       2     7    266\n",
       "5       2     3     59"
      ]
     },
     "execution_count": 19,
     "metadata": {},
     "output_type": "execute_result"
    }
   ],
   "source": [
    "dfd.head(10)"
   ]
  },
  {
   "cell_type": "code",
   "execution_count": 20,
   "metadata": {
    "collapsed": true
   },
   "outputs": [],
   "source": [
    "dfd = dfd.set_index('sub1').groupby('stfips')['count'].nlargest(3).reset_index()"
   ]
  },
  {
   "cell_type": "code",
   "execution_count": 21,
   "metadata": {},
   "outputs": [
    {
     "data": {
      "text/html": [
       "<div>\n",
       "<style scoped>\n",
       "    .dataframe tbody tr th:only-of-type {\n",
       "        vertical-align: middle;\n",
       "    }\n",
       "\n",
       "    .dataframe tbody tr th {\n",
       "        vertical-align: top;\n",
       "    }\n",
       "\n",
       "    .dataframe thead th {\n",
       "        text-align: right;\n",
       "    }\n",
       "</style>\n",
       "<table border=\"1\" class=\"dataframe\">\n",
       "  <thead>\n",
       "    <tr style=\"text-align: right;\">\n",
       "      <th></th>\n",
       "      <th>stfips</th>\n",
       "      <th>sub1</th>\n",
       "      <th>count</th>\n",
       "    </tr>\n",
       "  </thead>\n",
       "  <tbody>\n",
       "    <tr>\n",
       "      <th>143</th>\n",
       "      <td>54</td>\n",
       "      <td>4</td>\n",
       "      <td>471</td>\n",
       "    </tr>\n",
       "    <tr>\n",
       "      <th>144</th>\n",
       "      <td>55</td>\n",
       "      <td>5</td>\n",
       "      <td>2191</td>\n",
       "    </tr>\n",
       "    <tr>\n",
       "      <th>145</th>\n",
       "      <td>55</td>\n",
       "      <td>4</td>\n",
       "      <td>2016</td>\n",
       "    </tr>\n",
       "    <tr>\n",
       "      <th>146</th>\n",
       "      <td>55</td>\n",
       "      <td>7</td>\n",
       "      <td>1102</td>\n",
       "    </tr>\n",
       "    <tr>\n",
       "      <th>147</th>\n",
       "      <td>56</td>\n",
       "      <td>4</td>\n",
       "      <td>948</td>\n",
       "    </tr>\n",
       "    <tr>\n",
       "      <th>148</th>\n",
       "      <td>56</td>\n",
       "      <td>10</td>\n",
       "      <td>747</td>\n",
       "    </tr>\n",
       "    <tr>\n",
       "      <th>149</th>\n",
       "      <td>56</td>\n",
       "      <td>7</td>\n",
       "      <td>320</td>\n",
       "    </tr>\n",
       "    <tr>\n",
       "      <th>150</th>\n",
       "      <td>72</td>\n",
       "      <td>5</td>\n",
       "      <td>600</td>\n",
       "    </tr>\n",
       "    <tr>\n",
       "      <th>151</th>\n",
       "      <td>72</td>\n",
       "      <td>4</td>\n",
       "      <td>500</td>\n",
       "    </tr>\n",
       "    <tr>\n",
       "      <th>152</th>\n",
       "      <td>72</td>\n",
       "      <td>3</td>\n",
       "      <td>127</td>\n",
       "    </tr>\n",
       "  </tbody>\n",
       "</table>\n",
       "</div>"
      ],
      "text/plain": [
       "     stfips  sub1  count\n",
       "143      54     4    471\n",
       "144      55     5   2191\n",
       "145      55     4   2016\n",
       "146      55     7   1102\n",
       "147      56     4    948\n",
       "148      56    10    747\n",
       "149      56     7    320\n",
       "150      72     5    600\n",
       "151      72     4    500\n",
       "152      72     3    127"
      ]
     },
     "execution_count": 21,
     "metadata": {},
     "output_type": "execute_result"
    }
   ],
   "source": [
    "dfd.tail(10)"
   ]
  },
  {
   "cell_type": "code",
   "execution_count": 22,
   "metadata": {
    "collapsed": true
   },
   "outputs": [],
   "source": [
    "dfd.to_pickle (\"C:/Users/rmbrm/Documents/DS_WP/Dashboard/map_data_1\", compression='infer', protocol=4)"
   ]
  },
  {
   "cell_type": "code",
   "execution_count": 23,
   "metadata": {
    "collapsed": true
   },
   "outputs": [],
   "source": [
    "dfd.sort_values(['stfips', 'count'], ascending=[True, False], inplace=True)"
   ]
  },
  {
   "cell_type": "code",
   "execution_count": 24,
   "metadata": {},
   "outputs": [
    {
     "data": {
      "text/html": [
       "<div>\n",
       "<style scoped>\n",
       "    .dataframe tbody tr th:only-of-type {\n",
       "        vertical-align: middle;\n",
       "    }\n",
       "\n",
       "    .dataframe tbody tr th {\n",
       "        vertical-align: top;\n",
       "    }\n",
       "\n",
       "    .dataframe thead th {\n",
       "        text-align: right;\n",
       "    }\n",
       "</style>\n",
       "<table border=\"1\" class=\"dataframe\">\n",
       "  <thead>\n",
       "    <tr style=\"text-align: right;\">\n",
       "      <th></th>\n",
       "      <th>stfips</th>\n",
       "      <th>sub1</th>\n",
       "      <th>count</th>\n",
       "    </tr>\n",
       "  </thead>\n",
       "  <tbody>\n",
       "    <tr>\n",
       "      <th>0</th>\n",
       "      <td>1</td>\n",
       "      <td>4</td>\n",
       "      <td>2187</td>\n",
       "    </tr>\n",
       "    <tr>\n",
       "      <th>1</th>\n",
       "      <td>1</td>\n",
       "      <td>7</td>\n",
       "      <td>1438</td>\n",
       "    </tr>\n",
       "    <tr>\n",
       "      <th>2</th>\n",
       "      <td>1</td>\n",
       "      <td>10</td>\n",
       "      <td>1076</td>\n",
       "    </tr>\n",
       "    <tr>\n",
       "      <th>3</th>\n",
       "      <td>2</td>\n",
       "      <td>4</td>\n",
       "      <td>589</td>\n",
       "    </tr>\n",
       "    <tr>\n",
       "      <th>4</th>\n",
       "      <td>2</td>\n",
       "      <td>5</td>\n",
       "      <td>545</td>\n",
       "    </tr>\n",
       "  </tbody>\n",
       "</table>\n",
       "</div>"
      ],
      "text/plain": [
       "   stfips  sub1  count\n",
       "0       1     4   2187\n",
       "1       1     7   1438\n",
       "2       1    10   1076\n",
       "3       2     4    589\n",
       "4       2     5    545"
      ]
     },
     "execution_count": 24,
     "metadata": {},
     "output_type": "execute_result"
    }
   ],
   "source": [
    "dfd.head()"
   ]
  },
  {
   "cell_type": "code",
   "execution_count": 25,
   "metadata": {
    "collapsed": true
   },
   "outputs": [],
   "source": [
    "# Replace state codes with state names\n",
    "dfd.stfips = dfd.stfips.replace({1: \"Alabama\",\n",
    "2: \"Alaska\",\n",
    "4: \"Arizona\",\n",
    "5: \"Arkansas\",\n",
    "6: \"California\",\n",
    "8: \"Colorado\",\n",
    "9: \"Connecticut\",\n",
    "10: \"Delaware\",\n",
    "11: \"DC\",\n",
    "12: \"Florida\",\n",
    "13: \"Georgia\",\n",
    "15: \"Hawaii\",\n",
    "16: \"Idaho\",\n",
    "17: \"Illinois\",\n",
    "18: \"Indiana\",\n",
    "19: \"Iowa\",\n",
    "20: \"Kansas\",\n",
    "21: \"Kentucky\",\n",
    "22: \"Louisiana\",\n",
    "23: \"Maine\",\n",
    "24: \"Maryland\",\n",
    "25: \"Massachusetts\",\n",
    "26: \"Michigan\",\n",
    "27: \"Minnesota\",\n",
    "28: \"Mississippi\",\n",
    "29: \"Missouri\",\n",
    "30: \"Montana\",\n",
    "31: \"Nebraska\",\n",
    "32: \"Nevada\",\n",
    "33: \"New Hampshire\",\n",
    "34: \"New Jersey\",\n",
    "35: \"New Mexico\",\n",
    "36: \"New York\",\n",
    "37: \"North Carolina\",\n",
    "38: \"North Dakota\",\n",
    "39: \"Ohio\",\n",
    "40: \"Oklahoma\",\n",
    "41: \"Oregon\",\n",
    "42: \"Pennsylvania\",\n",
    "44: \"Rhode Island\",\n",
    "45: \"South Carolina\",\n",
    "46: \"South Dakota\",\n",
    "47: \"Tennessee\",\n",
    "48: \"Texas\",\n",
    "49: \"Utah\",\n",
    "50: \"Vermont\",\n",
    "51: \"Virginia\",\n",
    "53: \"Washington\",\n",
    "54: \"West Virginia\",\n",
    "55: \"Wisconsin\",\n",
    "56: \"Wyoming\",\n",
    "72: \"Puerto Rico\"})"
   ]
  },
  {
   "cell_type": "code",
   "execution_count": 26,
   "metadata": {
    "collapsed": true
   },
   "outputs": [],
   "source": [
    "df = dfd"
   ]
  },
  {
   "cell_type": "code",
   "execution_count": 27,
   "metadata": {
    "collapsed": true
   },
   "outputs": [],
   "source": [
    "df['total'] = df['count'].groupby(df['stfips']).transform('sum')"
   ]
  },
  {
   "cell_type": "code",
   "execution_count": 28,
   "metadata": {
    "collapsed": true
   },
   "outputs": [],
   "source": [
    "df.sub1 = df.sub1.replace({4: \"Marijuana: \",\n",
    "                           5: \"Heroin: \",\n",
    "                           7: \"Opiates: \",\n",
    "                           3: \"Cocaine: \",\n",
    "                           10: \"Meth: \"})"
   ]
  },
  {
   "cell_type": "code",
   "execution_count": 29,
   "metadata": {},
   "outputs": [
    {
     "data": {
      "text/html": [
       "<div>\n",
       "<style scoped>\n",
       "    .dataframe tbody tr th:only-of-type {\n",
       "        vertical-align: middle;\n",
       "    }\n",
       "\n",
       "    .dataframe tbody tr th {\n",
       "        vertical-align: top;\n",
       "    }\n",
       "\n",
       "    .dataframe thead th {\n",
       "        text-align: right;\n",
       "    }\n",
       "</style>\n",
       "<table border=\"1\" class=\"dataframe\">\n",
       "  <thead>\n",
       "    <tr style=\"text-align: right;\">\n",
       "      <th></th>\n",
       "      <th>stfips</th>\n",
       "      <th>sub1</th>\n",
       "      <th>count</th>\n",
       "      <th>total</th>\n",
       "    </tr>\n",
       "  </thead>\n",
       "  <tbody>\n",
       "    <tr>\n",
       "      <th>0</th>\n",
       "      <td>Alabama</td>\n",
       "      <td>Marijuana:</td>\n",
       "      <td>2187</td>\n",
       "      <td>4701</td>\n",
       "    </tr>\n",
       "    <tr>\n",
       "      <th>1</th>\n",
       "      <td>Alabama</td>\n",
       "      <td>Opiates:</td>\n",
       "      <td>1438</td>\n",
       "      <td>4701</td>\n",
       "    </tr>\n",
       "    <tr>\n",
       "      <th>2</th>\n",
       "      <td>Alabama</td>\n",
       "      <td>Meth:</td>\n",
       "      <td>1076</td>\n",
       "      <td>4701</td>\n",
       "    </tr>\n",
       "    <tr>\n",
       "      <th>3</th>\n",
       "      <td>Alaska</td>\n",
       "      <td>Marijuana:</td>\n",
       "      <td>589</td>\n",
       "      <td>1451</td>\n",
       "    </tr>\n",
       "    <tr>\n",
       "      <th>4</th>\n",
       "      <td>Alaska</td>\n",
       "      <td>Heroin:</td>\n",
       "      <td>545</td>\n",
       "      <td>1451</td>\n",
       "    </tr>\n",
       "  </tbody>\n",
       "</table>\n",
       "</div>"
      ],
      "text/plain": [
       "    stfips         sub1  count  total\n",
       "0  Alabama  Marijuana:    2187   4701\n",
       "1  Alabama    Opiates:    1438   4701\n",
       "2  Alabama       Meth:    1076   4701\n",
       "3   Alaska  Marijuana:     589   1451\n",
       "4   Alaska     Heroin:     545   1451"
      ]
     },
     "execution_count": 29,
     "metadata": {},
     "output_type": "execute_result"
    }
   ],
   "source": [
    "df.head()"
   ]
  },
  {
   "cell_type": "code",
   "execution_count": 30,
   "metadata": {
    "collapsed": true
   },
   "outputs": [],
   "source": [
    "df.to_pickle (\"C:/Users/rmbrm/Documents/DS_WP/Dashboard/map_data_2\", compression='infer', protocol=4)"
   ]
  },
  {
   "cell_type": "code",
   "execution_count": 31,
   "metadata": {
    "collapsed": true
   },
   "outputs": [],
   "source": [
    "df['total'] = df['count'].groupby(df['stfips']).transform('sum')"
   ]
  },
  {
   "cell_type": "code",
   "execution_count": 32,
   "metadata": {
    "collapsed": true
   },
   "outputs": [],
   "source": [
    "# count as a string\n",
    "df['cnt_str'] = df['count'].astype(str)"
   ]
  },
  {
   "cell_type": "code",
   "execution_count": 33,
   "metadata": {
    "collapsed": true
   },
   "outputs": [],
   "source": [
    "# \n",
    "df1 = df.loc[[0, 3, 6, 9, 12, 15, 18, 21, 24, 27, 30, 33, 36, 39, 42, 45, 48, 51, 54, 57, 60, 63, 66, 69, 72, 75, 78, 81, 84, 87, 90, 93, 96, 99, 102, 105, 108, 111, 114, 117, 120, 123, 126, 129, 132, 135, 138, 141, 144, 147, 150]]"
   ]
  },
  {
   "cell_type": "code",
   "execution_count": 34,
   "metadata": {
    "collapsed": true
   },
   "outputs": [],
   "source": [
    "# \n",
    "df2 = df.loc[[1, 4, 7, 10, 13, 16, 19, 22, 25, 28, 31, 34, 37, 40, 43, 46, 49, 52, 55, 58, 61, 64, 67, 70, 73, 76, 79, 82, 85, 88, 91, 94, 97, 100, 103, 106, 109, 112, 115, 118, 121, 124, 127, 130, 133, 136, 139, 142, 145, 148, 151]]"
   ]
  },
  {
   "cell_type": "code",
   "execution_count": 35,
   "metadata": {
    "collapsed": true
   },
   "outputs": [],
   "source": [
    "# \n",
    "df3 = df.loc[[2, 5, 8, 11, 14, 17, 20, 23, 26, 29, 32, 35, 38, 41, 44, 47, 50, 53, 56, 59, 62, 65, 68, 71, 74, 77, 80, 83, 86, 89, 92, 95, 98, 101, 104, 107, 110, 113, 116, 119, 122, 125, 128, 131, 134, 137, 140, 143, 146, 149, 152]]"
   ]
  },
  {
   "cell_type": "code",
   "execution_count": 36,
   "metadata": {
    "collapsed": true
   },
   "outputs": [],
   "source": [
    "# \n",
    "df1['first'] = df1['sub1'] + df1['cnt_str']"
   ]
  },
  {
   "cell_type": "code",
   "execution_count": 37,
   "metadata": {
    "collapsed": true
   },
   "outputs": [],
   "source": [
    "# \n",
    "df2['second'] = df2['sub1'] + df2['cnt_str']"
   ]
  },
  {
   "cell_type": "code",
   "execution_count": 38,
   "metadata": {
    "collapsed": true
   },
   "outputs": [],
   "source": [
    "# \n",
    "df3['third'] = df3['sub1'] + df3['cnt_str']"
   ]
  },
  {
   "cell_type": "code",
   "execution_count": 39,
   "metadata": {},
   "outputs": [
    {
     "data": {
      "text/html": [
       "<div>\n",
       "<style scoped>\n",
       "    .dataframe tbody tr th:only-of-type {\n",
       "        vertical-align: middle;\n",
       "    }\n",
       "\n",
       "    .dataframe tbody tr th {\n",
       "        vertical-align: top;\n",
       "    }\n",
       "\n",
       "    .dataframe thead th {\n",
       "        text-align: right;\n",
       "    }\n",
       "</style>\n",
       "<table border=\"1\" class=\"dataframe\">\n",
       "  <thead>\n",
       "    <tr style=\"text-align: right;\">\n",
       "      <th></th>\n",
       "      <th>stfips</th>\n",
       "      <th>sub1</th>\n",
       "      <th>count</th>\n",
       "      <th>cnt_str</th>\n",
       "      <th>third</th>\n",
       "    </tr>\n",
       "  </thead>\n",
       "  <tbody>\n",
       "    <tr>\n",
       "      <th>2</th>\n",
       "      <td>Alabama</td>\n",
       "      <td>Meth:</td>\n",
       "      <td>1076</td>\n",
       "      <td>1076</td>\n",
       "      <td>Meth: 1076</td>\n",
       "    </tr>\n",
       "    <tr>\n",
       "      <th>5</th>\n",
       "      <td>Alaska</td>\n",
       "      <td>Meth:</td>\n",
       "      <td>317</td>\n",
       "      <td>317</td>\n",
       "      <td>Meth: 317</td>\n",
       "    </tr>\n",
       "    <tr>\n",
       "      <th>8</th>\n",
       "      <td>Arizona</td>\n",
       "      <td>Marijuana:</td>\n",
       "      <td>4033</td>\n",
       "      <td>4033</td>\n",
       "      <td>Marijuana: 4033</td>\n",
       "    </tr>\n",
       "    <tr>\n",
       "      <th>11</th>\n",
       "      <td>Arkansas</td>\n",
       "      <td>Opiates:</td>\n",
       "      <td>1312</td>\n",
       "      <td>1312</td>\n",
       "      <td>Opiates: 1312</td>\n",
       "    </tr>\n",
       "    <tr>\n",
       "      <th>14</th>\n",
       "      <td>California</td>\n",
       "      <td>Marijuana:</td>\n",
       "      <td>24379</td>\n",
       "      <td>24379</td>\n",
       "      <td>Marijuana: 24379</td>\n",
       "    </tr>\n",
       "    <tr>\n",
       "      <th>17</th>\n",
       "      <td>Colorado</td>\n",
       "      <td>Heroin:</td>\n",
       "      <td>6204</td>\n",
       "      <td>6204</td>\n",
       "      <td>Heroin: 6204</td>\n",
       "    </tr>\n",
       "    <tr>\n",
       "      <th>20</th>\n",
       "      <td>Connecticut</td>\n",
       "      <td>Cocaine:</td>\n",
       "      <td>4305</td>\n",
       "      <td>4305</td>\n",
       "      <td>Cocaine: 4305</td>\n",
       "    </tr>\n",
       "    <tr>\n",
       "      <th>23</th>\n",
       "      <td>Delaware</td>\n",
       "      <td>Opiates:</td>\n",
       "      <td>660</td>\n",
       "      <td>660</td>\n",
       "      <td>Opiates: 660</td>\n",
       "    </tr>\n",
       "    <tr>\n",
       "      <th>26</th>\n",
       "      <td>DC</td>\n",
       "      <td>Marijuana:</td>\n",
       "      <td>607</td>\n",
       "      <td>607</td>\n",
       "      <td>Marijuana: 607</td>\n",
       "    </tr>\n",
       "    <tr>\n",
       "      <th>29</th>\n",
       "      <td>Florida</td>\n",
       "      <td>Heroin:</td>\n",
       "      <td>3004</td>\n",
       "      <td>3004</td>\n",
       "      <td>Heroin: 3004</td>\n",
       "    </tr>\n",
       "    <tr>\n",
       "      <th>32</th>\n",
       "      <td>Georgia</td>\n",
       "      <td>Meth:</td>\n",
       "      <td>3645</td>\n",
       "      <td>3645</td>\n",
       "      <td>Meth: 3645</td>\n",
       "    </tr>\n",
       "    <tr>\n",
       "      <th>35</th>\n",
       "      <td>Hawaii</td>\n",
       "      <td>Opiates:</td>\n",
       "      <td>284</td>\n",
       "      <td>284</td>\n",
       "      <td>Opiates: 284</td>\n",
       "    </tr>\n",
       "    <tr>\n",
       "      <th>38</th>\n",
       "      <td>Idaho</td>\n",
       "      <td>Heroin:</td>\n",
       "      <td>159</td>\n",
       "      <td>159</td>\n",
       "      <td>Heroin: 159</td>\n",
       "    </tr>\n",
       "    <tr>\n",
       "      <th>41</th>\n",
       "      <td>Illinois</td>\n",
       "      <td>Cocaine:</td>\n",
       "      <td>2152</td>\n",
       "      <td>2152</td>\n",
       "      <td>Cocaine: 2152</td>\n",
       "    </tr>\n",
       "    <tr>\n",
       "      <th>44</th>\n",
       "      <td>Indiana</td>\n",
       "      <td>Opiates:</td>\n",
       "      <td>3014</td>\n",
       "      <td>3014</td>\n",
       "      <td>Opiates: 3014</td>\n",
       "    </tr>\n",
       "    <tr>\n",
       "      <th>47</th>\n",
       "      <td>Iowa</td>\n",
       "      <td>Opiates:</td>\n",
       "      <td>1350</td>\n",
       "      <td>1350</td>\n",
       "      <td>Opiates: 1350</td>\n",
       "    </tr>\n",
       "    <tr>\n",
       "      <th>50</th>\n",
       "      <td>Kansas</td>\n",
       "      <td>Opiates:</td>\n",
       "      <td>417</td>\n",
       "      <td>417</td>\n",
       "      <td>Opiates: 417</td>\n",
       "    </tr>\n",
       "    <tr>\n",
       "      <th>53</th>\n",
       "      <td>Kentucky</td>\n",
       "      <td>Marijuana:</td>\n",
       "      <td>2236</td>\n",
       "      <td>2236</td>\n",
       "      <td>Marijuana: 2236</td>\n",
       "    </tr>\n",
       "    <tr>\n",
       "      <th>56</th>\n",
       "      <td>Louisiana</td>\n",
       "      <td>Marijuana:</td>\n",
       "      <td>1242</td>\n",
       "      <td>1242</td>\n",
       "      <td>Marijuana: 1242</td>\n",
       "    </tr>\n",
       "    <tr>\n",
       "      <th>59</th>\n",
       "      <td>Maine</td>\n",
       "      <td>Marijuana:</td>\n",
       "      <td>806</td>\n",
       "      <td>806</td>\n",
       "      <td>Marijuana: 806</td>\n",
       "    </tr>\n",
       "    <tr>\n",
       "      <th>62</th>\n",
       "      <td>Maryland</td>\n",
       "      <td>Opiates:</td>\n",
       "      <td>3663</td>\n",
       "      <td>3663</td>\n",
       "      <td>Opiates: 3663</td>\n",
       "    </tr>\n",
       "    <tr>\n",
       "      <th>65</th>\n",
       "      <td>Massachusetts</td>\n",
       "      <td>Marijuana:</td>\n",
       "      <td>2652</td>\n",
       "      <td>2652</td>\n",
       "      <td>Marijuana: 2652</td>\n",
       "    </tr>\n",
       "    <tr>\n",
       "      <th>68</th>\n",
       "      <td>Michigan</td>\n",
       "      <td>Opiates:</td>\n",
       "      <td>7557</td>\n",
       "      <td>7557</td>\n",
       "      <td>Opiates: 7557</td>\n",
       "    </tr>\n",
       "    <tr>\n",
       "      <th>71</th>\n",
       "      <td>Minnesota</td>\n",
       "      <td>Heroin:</td>\n",
       "      <td>5613</td>\n",
       "      <td>5613</td>\n",
       "      <td>Heroin: 5613</td>\n",
       "    </tr>\n",
       "    <tr>\n",
       "      <th>74</th>\n",
       "      <td>Mississippi</td>\n",
       "      <td>Meth:</td>\n",
       "      <td>478</td>\n",
       "      <td>478</td>\n",
       "      <td>Meth: 478</td>\n",
       "    </tr>\n",
       "    <tr>\n",
       "      <th>77</th>\n",
       "      <td>Missouri</td>\n",
       "      <td>Heroin:</td>\n",
       "      <td>4558</td>\n",
       "      <td>4558</td>\n",
       "      <td>Heroin: 4558</td>\n",
       "    </tr>\n",
       "    <tr>\n",
       "      <th>80</th>\n",
       "      <td>Montana</td>\n",
       "      <td>Opiates:</td>\n",
       "      <td>568</td>\n",
       "      <td>568</td>\n",
       "      <td>Opiates: 568</td>\n",
       "    </tr>\n",
       "    <tr>\n",
       "      <th>83</th>\n",
       "      <td>Nebraska</td>\n",
       "      <td>Opiates:</td>\n",
       "      <td>581</td>\n",
       "      <td>581</td>\n",
       "      <td>Opiates: 581</td>\n",
       "    </tr>\n",
       "    <tr>\n",
       "      <th>86</th>\n",
       "      <td>Nevada</td>\n",
       "      <td>Heroin:</td>\n",
       "      <td>989</td>\n",
       "      <td>989</td>\n",
       "      <td>Heroin: 989</td>\n",
       "    </tr>\n",
       "    <tr>\n",
       "      <th>89</th>\n",
       "      <td>New Hampshire</td>\n",
       "      <td>Marijuana:</td>\n",
       "      <td>363</td>\n",
       "      <td>363</td>\n",
       "      <td>Marijuana: 363</td>\n",
       "    </tr>\n",
       "    <tr>\n",
       "      <th>92</th>\n",
       "      <td>New Jersey</td>\n",
       "      <td>Opiates:</td>\n",
       "      <td>4537</td>\n",
       "      <td>4537</td>\n",
       "      <td>Opiates: 4537</td>\n",
       "    </tr>\n",
       "    <tr>\n",
       "      <th>95</th>\n",
       "      <td>New Mexico</td>\n",
       "      <td>Marijuana:</td>\n",
       "      <td>324</td>\n",
       "      <td>324</td>\n",
       "      <td>Marijuana: 324</td>\n",
       "    </tr>\n",
       "    <tr>\n",
       "      <th>98</th>\n",
       "      <td>New York</td>\n",
       "      <td>Cocaine:</td>\n",
       "      <td>23371</td>\n",
       "      <td>23371</td>\n",
       "      <td>Cocaine: 23371</td>\n",
       "    </tr>\n",
       "    <tr>\n",
       "      <th>101</th>\n",
       "      <td>North Carolina</td>\n",
       "      <td>Cocaine:</td>\n",
       "      <td>4082</td>\n",
       "      <td>4082</td>\n",
       "      <td>Cocaine: 4082</td>\n",
       "    </tr>\n",
       "    <tr>\n",
       "      <th>104</th>\n",
       "      <td>North Dakota</td>\n",
       "      <td>Opiates:</td>\n",
       "      <td>242</td>\n",
       "      <td>242</td>\n",
       "      <td>Opiates: 242</td>\n",
       "    </tr>\n",
       "    <tr>\n",
       "      <th>107</th>\n",
       "      <td>Ohio</td>\n",
       "      <td>Opiates:</td>\n",
       "      <td>3651</td>\n",
       "      <td>3651</td>\n",
       "      <td>Opiates: 3651</td>\n",
       "    </tr>\n",
       "    <tr>\n",
       "      <th>110</th>\n",
       "      <td>Oklahoma</td>\n",
       "      <td>Opiates:</td>\n",
       "      <td>1602</td>\n",
       "      <td>1602</td>\n",
       "      <td>Opiates: 1602</td>\n",
       "    </tr>\n",
       "    <tr>\n",
       "      <th>113</th>\n",
       "      <td>Oregon</td>\n",
       "      <td>Marijuana:</td>\n",
       "      <td>3664</td>\n",
       "      <td>3664</td>\n",
       "      <td>Marijuana: 3664</td>\n",
       "    </tr>\n",
       "    <tr>\n",
       "      <th>116</th>\n",
       "      <td>Pennsylvania</td>\n",
       "      <td>Opiates:</td>\n",
       "      <td>4647</td>\n",
       "      <td>4647</td>\n",
       "      <td>Opiates: 4647</td>\n",
       "    </tr>\n",
       "    <tr>\n",
       "      <th>119</th>\n",
       "      <td>Rhode Island</td>\n",
       "      <td>Marijuana:</td>\n",
       "      <td>978</td>\n",
       "      <td>978</td>\n",
       "      <td>Marijuana: 978</td>\n",
       "    </tr>\n",
       "    <tr>\n",
       "      <th>122</th>\n",
       "      <td>South Dakota</td>\n",
       "      <td>Opiates:</td>\n",
       "      <td>372</td>\n",
       "      <td>372</td>\n",
       "      <td>Opiates: 372</td>\n",
       "    </tr>\n",
       "    <tr>\n",
       "      <th>125</th>\n",
       "      <td>Tennessee</td>\n",
       "      <td>Cocaine:</td>\n",
       "      <td>1358</td>\n",
       "      <td>1358</td>\n",
       "      <td>Cocaine: 1358</td>\n",
       "    </tr>\n",
       "    <tr>\n",
       "      <th>128</th>\n",
       "      <td>Texas</td>\n",
       "      <td>Meth:</td>\n",
       "      <td>4808</td>\n",
       "      <td>4808</td>\n",
       "      <td>Meth: 4808</td>\n",
       "    </tr>\n",
       "    <tr>\n",
       "      <th>131</th>\n",
       "      <td>Utah</td>\n",
       "      <td>Marijuana:</td>\n",
       "      <td>1947</td>\n",
       "      <td>1947</td>\n",
       "      <td>Marijuana: 1947</td>\n",
       "    </tr>\n",
       "    <tr>\n",
       "      <th>134</th>\n",
       "      <td>Vermont</td>\n",
       "      <td>Marijuana:</td>\n",
       "      <td>1201</td>\n",
       "      <td>1201</td>\n",
       "      <td>Marijuana: 1201</td>\n",
       "    </tr>\n",
       "    <tr>\n",
       "      <th>137</th>\n",
       "      <td>Virginia</td>\n",
       "      <td>Opiates:</td>\n",
       "      <td>2611</td>\n",
       "      <td>2611</td>\n",
       "      <td>Opiates: 2611</td>\n",
       "    </tr>\n",
       "    <tr>\n",
       "      <th>140</th>\n",
       "      <td>Washington</td>\n",
       "      <td>Meth:</td>\n",
       "      <td>5165</td>\n",
       "      <td>5165</td>\n",
       "      <td>Meth: 5165</td>\n",
       "    </tr>\n",
       "    <tr>\n",
       "      <th>143</th>\n",
       "      <td>West Virginia</td>\n",
       "      <td>Marijuana:</td>\n",
       "      <td>471</td>\n",
       "      <td>471</td>\n",
       "      <td>Marijuana: 471</td>\n",
       "    </tr>\n",
       "    <tr>\n",
       "      <th>146</th>\n",
       "      <td>Wisconsin</td>\n",
       "      <td>Opiates:</td>\n",
       "      <td>1102</td>\n",
       "      <td>1102</td>\n",
       "      <td>Opiates: 1102</td>\n",
       "    </tr>\n",
       "    <tr>\n",
       "      <th>149</th>\n",
       "      <td>Wyoming</td>\n",
       "      <td>Opiates:</td>\n",
       "      <td>320</td>\n",
       "      <td>320</td>\n",
       "      <td>Opiates: 320</td>\n",
       "    </tr>\n",
       "    <tr>\n",
       "      <th>152</th>\n",
       "      <td>Puerto Rico</td>\n",
       "      <td>Cocaine:</td>\n",
       "      <td>127</td>\n",
       "      <td>127</td>\n",
       "      <td>Cocaine: 127</td>\n",
       "    </tr>\n",
       "  </tbody>\n",
       "</table>\n",
       "</div>"
      ],
      "text/plain": [
       "             stfips         sub1  count cnt_str             third\n",
       "2           Alabama       Meth:    1076    1076        Meth: 1076\n",
       "5            Alaska       Meth:     317     317         Meth: 317\n",
       "8           Arizona  Marijuana:    4033    4033   Marijuana: 4033\n",
       "11         Arkansas    Opiates:    1312    1312     Opiates: 1312\n",
       "14       California  Marijuana:   24379   24379  Marijuana: 24379\n",
       "17         Colorado     Heroin:    6204    6204      Heroin: 6204\n",
       "20      Connecticut    Cocaine:    4305    4305     Cocaine: 4305\n",
       "23         Delaware    Opiates:     660     660      Opiates: 660\n",
       "26               DC  Marijuana:     607     607    Marijuana: 607\n",
       "29          Florida     Heroin:    3004    3004      Heroin: 3004\n",
       "32          Georgia       Meth:    3645    3645        Meth: 3645\n",
       "35           Hawaii    Opiates:     284     284      Opiates: 284\n",
       "38            Idaho     Heroin:     159     159       Heroin: 159\n",
       "41         Illinois    Cocaine:    2152    2152     Cocaine: 2152\n",
       "44          Indiana    Opiates:    3014    3014     Opiates: 3014\n",
       "47             Iowa    Opiates:    1350    1350     Opiates: 1350\n",
       "50           Kansas    Opiates:     417     417      Opiates: 417\n",
       "53         Kentucky  Marijuana:    2236    2236   Marijuana: 2236\n",
       "56        Louisiana  Marijuana:    1242    1242   Marijuana: 1242\n",
       "59            Maine  Marijuana:     806     806    Marijuana: 806\n",
       "62         Maryland    Opiates:    3663    3663     Opiates: 3663\n",
       "65    Massachusetts  Marijuana:    2652    2652   Marijuana: 2652\n",
       "68         Michigan    Opiates:    7557    7557     Opiates: 7557\n",
       "71        Minnesota     Heroin:    5613    5613      Heroin: 5613\n",
       "74      Mississippi       Meth:     478     478         Meth: 478\n",
       "77         Missouri     Heroin:    4558    4558      Heroin: 4558\n",
       "80          Montana    Opiates:     568     568      Opiates: 568\n",
       "83         Nebraska    Opiates:     581     581      Opiates: 581\n",
       "86           Nevada     Heroin:     989     989       Heroin: 989\n",
       "89    New Hampshire  Marijuana:     363     363    Marijuana: 363\n",
       "92       New Jersey    Opiates:    4537    4537     Opiates: 4537\n",
       "95       New Mexico  Marijuana:     324     324    Marijuana: 324\n",
       "98         New York    Cocaine:   23371   23371    Cocaine: 23371\n",
       "101  North Carolina    Cocaine:    4082    4082     Cocaine: 4082\n",
       "104    North Dakota    Opiates:     242     242      Opiates: 242\n",
       "107            Ohio    Opiates:    3651    3651     Opiates: 3651\n",
       "110        Oklahoma    Opiates:    1602    1602     Opiates: 1602\n",
       "113          Oregon  Marijuana:    3664    3664   Marijuana: 3664\n",
       "116    Pennsylvania    Opiates:    4647    4647     Opiates: 4647\n",
       "119    Rhode Island  Marijuana:     978     978    Marijuana: 978\n",
       "122    South Dakota    Opiates:     372     372      Opiates: 372\n",
       "125       Tennessee    Cocaine:    1358    1358     Cocaine: 1358\n",
       "128           Texas       Meth:    4808    4808        Meth: 4808\n",
       "131            Utah  Marijuana:    1947    1947   Marijuana: 1947\n",
       "134         Vermont  Marijuana:    1201    1201   Marijuana: 1201\n",
       "137        Virginia    Opiates:    2611    2611     Opiates: 2611\n",
       "140      Washington       Meth:    5165    5165        Meth: 5165\n",
       "143   West Virginia  Marijuana:     471     471    Marijuana: 471\n",
       "146       Wisconsin    Opiates:    1102    1102     Opiates: 1102\n",
       "149         Wyoming    Opiates:     320     320      Opiates: 320\n",
       "152     Puerto Rico    Cocaine:     127     127      Cocaine: 127"
      ]
     },
     "execution_count": 39,
     "metadata": {},
     "output_type": "execute_result"
    }
   ],
   "source": [
    "# \n",
    "df3.drop(['total'], axis=1)"
   ]
  },
  {
   "cell_type": "code",
   "execution_count": 40,
   "metadata": {
    "collapsed": true
   },
   "outputs": [],
   "source": [
    "df2_merge = df2.drop(['sub1', 'count', 'cnt_str', 'total'], axis=1)"
   ]
  },
  {
   "cell_type": "code",
   "execution_count": 41,
   "metadata": {
    "collapsed": true
   },
   "outputs": [],
   "source": [
    "df3_merge = df3.drop(['sub1', 'count', 'cnt_str', 'total'], axis=1)"
   ]
  },
  {
   "cell_type": "code",
   "execution_count": 42,
   "metadata": {
    "collapsed": true
   },
   "outputs": [],
   "source": [
    "df1_merge = df1.drop(['sub1', 'count', 'cnt_str'], axis=1)"
   ]
  },
  {
   "cell_type": "code",
   "execution_count": 43,
   "metadata": {
    "collapsed": true
   },
   "outputs": [],
   "source": [
    "step1 = pd.merge(df1_merge, df2_merge, on=\"stfips\")"
   ]
  },
  {
   "cell_type": "code",
   "execution_count": 44,
   "metadata": {
    "collapsed": true
   },
   "outputs": [],
   "source": [
    "final = pd.merge(step1, df3_merge, on=\"stfips\")"
   ]
  },
  {
   "cell_type": "code",
   "execution_count": 45,
   "metadata": {
    "collapsed": true
   },
   "outputs": [],
   "source": [
    "final.to_pickle (\"C:/Users/rmbrm/Documents/DS_WP/Dashboard/map_data_3\", compression='infer', protocol=4)"
   ]
  },
  {
   "cell_type": "code",
   "execution_count": 46,
   "metadata": {
    "scrolled": true
   },
   "outputs": [
    {
     "data": {
      "text/html": [
       "<div>\n",
       "<style scoped>\n",
       "    .dataframe tbody tr th:only-of-type {\n",
       "        vertical-align: middle;\n",
       "    }\n",
       "\n",
       "    .dataframe tbody tr th {\n",
       "        vertical-align: top;\n",
       "    }\n",
       "\n",
       "    .dataframe thead th {\n",
       "        text-align: right;\n",
       "    }\n",
       "</style>\n",
       "<table border=\"1\" class=\"dataframe\">\n",
       "  <thead>\n",
       "    <tr style=\"text-align: right;\">\n",
       "      <th></th>\n",
       "      <th>stfips</th>\n",
       "      <th>total</th>\n",
       "      <th>first</th>\n",
       "      <th>second</th>\n",
       "      <th>third</th>\n",
       "    </tr>\n",
       "  </thead>\n",
       "  <tbody>\n",
       "    <tr>\n",
       "      <th>0</th>\n",
       "      <td>Alabama</td>\n",
       "      <td>4701</td>\n",
       "      <td>Marijuana: 2187</td>\n",
       "      <td>Opiates: 1438</td>\n",
       "      <td>Meth: 1076</td>\n",
       "    </tr>\n",
       "    <tr>\n",
       "      <th>1</th>\n",
       "      <td>Alaska</td>\n",
       "      <td>1451</td>\n",
       "      <td>Marijuana: 589</td>\n",
       "      <td>Heroin: 545</td>\n",
       "      <td>Meth: 317</td>\n",
       "    </tr>\n",
       "    <tr>\n",
       "      <th>2</th>\n",
       "      <td>Arizona</td>\n",
       "      <td>12602</td>\n",
       "      <td>Meth: 4487</td>\n",
       "      <td>Heroin: 4082</td>\n",
       "      <td>Marijuana: 4033</td>\n",
       "    </tr>\n",
       "    <tr>\n",
       "      <th>3</th>\n",
       "      <td>Arkansas</td>\n",
       "      <td>4371</td>\n",
       "      <td>Meth: 1645</td>\n",
       "      <td>Marijuana: 1414</td>\n",
       "      <td>Opiates: 1312</td>\n",
       "    </tr>\n",
       "    <tr>\n",
       "      <th>4</th>\n",
       "      <td>California</td>\n",
       "      <td>110777</td>\n",
       "      <td>Meth: 48113</td>\n",
       "      <td>Heroin: 38285</td>\n",
       "      <td>Marijuana: 24379</td>\n",
       "    </tr>\n",
       "    <tr>\n",
       "      <th>5</th>\n",
       "      <td>Colorado</td>\n",
       "      <td>22148</td>\n",
       "      <td>Meth: 9113</td>\n",
       "      <td>Marijuana: 6831</td>\n",
       "      <td>Heroin: 6204</td>\n",
       "    </tr>\n",
       "    <tr>\n",
       "      <th>6</th>\n",
       "      <td>Connecticut</td>\n",
       "      <td>33927</td>\n",
       "      <td>Heroin: 21770</td>\n",
       "      <td>Marijuana: 7852</td>\n",
       "      <td>Cocaine: 4305</td>\n",
       "    </tr>\n",
       "    <tr>\n",
       "      <th>7</th>\n",
       "      <td>Delaware</td>\n",
       "      <td>5105</td>\n",
       "      <td>Heroin: 3388</td>\n",
       "      <td>Marijuana: 1057</td>\n",
       "      <td>Opiates: 660</td>\n",
       "    </tr>\n",
       "    <tr>\n",
       "      <th>8</th>\n",
       "      <td>DC</td>\n",
       "      <td>2798</td>\n",
       "      <td>Heroin: 1257</td>\n",
       "      <td>Cocaine: 934</td>\n",
       "      <td>Marijuana: 607</td>\n",
       "    </tr>\n",
       "    <tr>\n",
       "      <th>9</th>\n",
       "      <td>Florida</td>\n",
       "      <td>15439</td>\n",
       "      <td>Opiates: 7662</td>\n",
       "      <td>Marijuana: 4773</td>\n",
       "      <td>Heroin: 3004</td>\n",
       "    </tr>\n",
       "    <tr>\n",
       "      <th>10</th>\n",
       "      <td>Georgia</td>\n",
       "      <td>17454</td>\n",
       "      <td>Marijuana: 9109</td>\n",
       "      <td>Cocaine: 4700</td>\n",
       "      <td>Meth: 3645</td>\n",
       "    </tr>\n",
       "    <tr>\n",
       "      <th>11</th>\n",
       "      <td>Hawaii</td>\n",
       "      <td>4208</td>\n",
       "      <td>Meth: 2143</td>\n",
       "      <td>Marijuana: 1781</td>\n",
       "      <td>Opiates: 284</td>\n",
       "    </tr>\n",
       "    <tr>\n",
       "      <th>12</th>\n",
       "      <td>Idaho</td>\n",
       "      <td>1504</td>\n",
       "      <td>Meth: 897</td>\n",
       "      <td>Marijuana: 448</td>\n",
       "      <td>Heroin: 159</td>\n",
       "    </tr>\n",
       "    <tr>\n",
       "      <th>13</th>\n",
       "      <td>Illinois</td>\n",
       "      <td>15902</td>\n",
       "      <td>Heroin: 7237</td>\n",
       "      <td>Marijuana: 6513</td>\n",
       "      <td>Cocaine: 2152</td>\n",
       "    </tr>\n",
       "    <tr>\n",
       "      <th>14</th>\n",
       "      <td>Indiana</td>\n",
       "      <td>11510</td>\n",
       "      <td>Marijuana: 5349</td>\n",
       "      <td>Heroin: 3147</td>\n",
       "      <td>Opiates: 3014</td>\n",
       "    </tr>\n",
       "  </tbody>\n",
       "</table>\n",
       "</div>"
      ],
      "text/plain": [
       "         stfips   total            first           second             third\n",
       "0       Alabama    4701  Marijuana: 2187    Opiates: 1438        Meth: 1076\n",
       "1        Alaska    1451   Marijuana: 589      Heroin: 545         Meth: 317\n",
       "2       Arizona   12602       Meth: 4487     Heroin: 4082   Marijuana: 4033\n",
       "3      Arkansas    4371       Meth: 1645  Marijuana: 1414     Opiates: 1312\n",
       "4    California  110777      Meth: 48113    Heroin: 38285  Marijuana: 24379\n",
       "5      Colorado   22148       Meth: 9113  Marijuana: 6831      Heroin: 6204\n",
       "6   Connecticut   33927    Heroin: 21770  Marijuana: 7852     Cocaine: 4305\n",
       "7      Delaware    5105     Heroin: 3388  Marijuana: 1057      Opiates: 660\n",
       "8            DC    2798     Heroin: 1257     Cocaine: 934    Marijuana: 607\n",
       "9       Florida   15439    Opiates: 7662  Marijuana: 4773      Heroin: 3004\n",
       "10      Georgia   17454  Marijuana: 9109    Cocaine: 4700        Meth: 3645\n",
       "11       Hawaii    4208       Meth: 2143  Marijuana: 1781      Opiates: 284\n",
       "12        Idaho    1504        Meth: 897   Marijuana: 448       Heroin: 159\n",
       "13     Illinois   15902     Heroin: 7237  Marijuana: 6513     Cocaine: 2152\n",
       "14      Indiana   11510  Marijuana: 5349     Heroin: 3147     Opiates: 3014"
      ]
     },
     "execution_count": 46,
     "metadata": {},
     "output_type": "execute_result"
    }
   ],
   "source": [
    "final.head(15)"
   ]
  },
  {
   "cell_type": "markdown",
   "metadata": {},
   "source": [
    "#### Step 2: Using population data for the year with the most recent admissions data,\n",
    "#### calculate percent of each state's population that was admitted for treatment."
   ]
  },
  {
   "cell_type": "code",
   "execution_count": 47,
   "metadata": {
    "collapsed": true
   },
   "outputs": [],
   "source": [
    "# Remove alcohol from 2014 admits data\n",
    "dfb = dfa.loc[dfa['sub1'] != 2]"
   ]
  },
  {
   "cell_type": "code",
   "execution_count": 48,
   "metadata": {
    "collapsed": true
   },
   "outputs": [],
   "source": [
    "admits_by_state = dfb['stfips'].value_counts().reset_index()"
   ]
  },
  {
   "cell_type": "code",
   "execution_count": 49,
   "metadata": {
    "collapsed": true
   },
   "outputs": [],
   "source": [
    "dfd = admits_by_state.rename(index=str, columns={\"index\": \"stfips\", \"stfips\": \"admits_2014\"})"
   ]
  },
  {
   "cell_type": "code",
   "execution_count": 50,
   "metadata": {
    "collapsed": true
   },
   "outputs": [],
   "source": [
    "dfe = pd.DataFrame(dfd)"
   ]
  },
  {
   "cell_type": "code",
   "execution_count": 51,
   "metadata": {
    "collapsed": true
   },
   "outputs": [],
   "source": [
    "dfe.sort_values(['stfips'], ascending=[True], inplace=True)"
   ]
  },
  {
   "cell_type": "code",
   "execution_count": 52,
   "metadata": {
    "collapsed": true
   },
   "outputs": [],
   "source": [
    "df_admits = dfe"
   ]
  },
  {
   "cell_type": "code",
   "execution_count": 53,
   "metadata": {
    "collapsed": true
   },
   "outputs": [],
   "source": [
    "dfe.to_pickle(\"C:/Users/rmbrm/Documents/DS_WP/Dashboard/admits\", compression='infer', protocol=4)"
   ]
  },
  {
   "cell_type": "code",
   "execution_count": 54,
   "metadata": {
    "collapsed": true
   },
   "outputs": [],
   "source": [
    "dff = dfe.set_index(['stfips'])"
   ]
  },
  {
   "cell_type": "code",
   "execution_count": 55,
   "metadata": {},
   "outputs": [],
   "source": [
    "# Read in 2014 population data file\n",
    "df_pop = pd.read_csv(\"C:/Users/rmbrm/Documents/DS_WP/Dashboard/pop_2014.txt\", sep='\\t')"
   ]
  },
  {
   "cell_type": "code",
   "execution_count": 56,
   "metadata": {},
   "outputs": [
    {
     "data": {
      "text/html": [
       "<div>\n",
       "<style scoped>\n",
       "    .dataframe tbody tr th:only-of-type {\n",
       "        vertical-align: middle;\n",
       "    }\n",
       "\n",
       "    .dataframe tbody tr th {\n",
       "        vertical-align: top;\n",
       "    }\n",
       "\n",
       "    .dataframe thead th {\n",
       "        text-align: right;\n",
       "    }\n",
       "</style>\n",
       "<table border=\"1\" class=\"dataframe\">\n",
       "  <thead>\n",
       "    <tr style=\"text-align: right;\">\n",
       "      <th></th>\n",
       "      <th>pop_2014</th>\n",
       "    </tr>\n",
       "    <tr>\n",
       "      <th>state</th>\n",
       "      <th></th>\n",
       "    </tr>\n",
       "  </thead>\n",
       "  <tbody>\n",
       "    <tr>\n",
       "      <th>Alabama</th>\n",
       "      <td>4840037</td>\n",
       "    </tr>\n",
       "    <tr>\n",
       "      <th>Alaska</th>\n",
       "      <td>736759</td>\n",
       "    </tr>\n",
       "    <tr>\n",
       "      <th>Arizona</th>\n",
       "      <td>6706435</td>\n",
       "    </tr>\n",
       "    <tr>\n",
       "      <th>Arkansas</th>\n",
       "      <td>2964800</td>\n",
       "    </tr>\n",
       "    <tr>\n",
       "      <th>California</th>\n",
       "      <td>38701278</td>\n",
       "    </tr>\n",
       "  </tbody>\n",
       "</table>\n",
       "</div>"
      ],
      "text/plain": [
       "            pop_2014\n",
       "state               \n",
       "Alabama      4840037\n",
       "Alaska        736759\n",
       "Arizona      6706435\n",
       "Arkansas     2964800\n",
       "California  38701278"
      ]
     },
     "execution_count": 56,
     "metadata": {},
     "output_type": "execute_result"
    }
   ],
   "source": [
    "df_pop.set_index(['state'], inplace=True)\n",
    "df_pop.head()"
   ]
  },
  {
   "cell_type": "code",
   "execution_count": 57,
   "metadata": {},
   "outputs": [],
   "source": [
    "df_codes = pd.read_csv(\"C:/Users/rmbrm/Documents/DS_WP/Dashboard/state_codes.txt\", sep='\\t')"
   ]
  },
  {
   "cell_type": "code",
   "execution_count": 58,
   "metadata": {},
   "outputs": [
    {
     "data": {
      "text/html": [
       "<div>\n",
       "<style scoped>\n",
       "    .dataframe tbody tr th:only-of-type {\n",
       "        vertical-align: middle;\n",
       "    }\n",
       "\n",
       "    .dataframe tbody tr th {\n",
       "        vertical-align: top;\n",
       "    }\n",
       "\n",
       "    .dataframe thead th {\n",
       "        text-align: right;\n",
       "    }\n",
       "</style>\n",
       "<table border=\"1\" class=\"dataframe\">\n",
       "  <thead>\n",
       "    <tr style=\"text-align: right;\">\n",
       "      <th></th>\n",
       "      <th>stfips</th>\n",
       "      <th>postal</th>\n",
       "    </tr>\n",
       "    <tr>\n",
       "      <th>state</th>\n",
       "      <th></th>\n",
       "      <th></th>\n",
       "    </tr>\n",
       "  </thead>\n",
       "  <tbody>\n",
       "    <tr>\n",
       "      <th>Alabama</th>\n",
       "      <td>1</td>\n",
       "      <td>AL</td>\n",
       "    </tr>\n",
       "    <tr>\n",
       "      <th>Alaska</th>\n",
       "      <td>2</td>\n",
       "      <td>AK</td>\n",
       "    </tr>\n",
       "    <tr>\n",
       "      <th>Arizona</th>\n",
       "      <td>4</td>\n",
       "      <td>AZ</td>\n",
       "    </tr>\n",
       "    <tr>\n",
       "      <th>Arkansas</th>\n",
       "      <td>5</td>\n",
       "      <td>AR</td>\n",
       "    </tr>\n",
       "    <tr>\n",
       "      <th>California</th>\n",
       "      <td>6</td>\n",
       "      <td>CA</td>\n",
       "    </tr>\n",
       "  </tbody>\n",
       "</table>\n",
       "</div>"
      ],
      "text/plain": [
       "            stfips postal\n",
       "state                    \n",
       "Alabama          1     AL\n",
       "Alaska           2     AK\n",
       "Arizona          4     AZ\n",
       "Arkansas         5     AR\n",
       "California       6     CA"
      ]
     },
     "execution_count": 58,
     "metadata": {},
     "output_type": "execute_result"
    }
   ],
   "source": [
    "df_codes.set_index(['state'], inplace=True)\n",
    "df_codes.head()"
   ]
  },
  {
   "cell_type": "code",
   "execution_count": 59,
   "metadata": {},
   "outputs": [
    {
     "data": {
      "text/html": [
       "<div>\n",
       "<style scoped>\n",
       "    .dataframe tbody tr th:only-of-type {\n",
       "        vertical-align: middle;\n",
       "    }\n",
       "\n",
       "    .dataframe tbody tr th {\n",
       "        vertical-align: top;\n",
       "    }\n",
       "\n",
       "    .dataframe thead th {\n",
       "        text-align: right;\n",
       "    }\n",
       "</style>\n",
       "<table border=\"1\" class=\"dataframe\">\n",
       "  <thead>\n",
       "    <tr style=\"text-align: right;\">\n",
       "      <th></th>\n",
       "      <th>pop_2014</th>\n",
       "      <th>stfips</th>\n",
       "      <th>postal</th>\n",
       "    </tr>\n",
       "    <tr>\n",
       "      <th>state</th>\n",
       "      <th></th>\n",
       "      <th></th>\n",
       "      <th></th>\n",
       "    </tr>\n",
       "  </thead>\n",
       "  <tbody>\n",
       "    <tr>\n",
       "      <th>Alabama</th>\n",
       "      <td>4840037</td>\n",
       "      <td>1</td>\n",
       "      <td>AL</td>\n",
       "    </tr>\n",
       "    <tr>\n",
       "      <th>Alaska</th>\n",
       "      <td>736759</td>\n",
       "      <td>2</td>\n",
       "      <td>AK</td>\n",
       "    </tr>\n",
       "    <tr>\n",
       "      <th>Arizona</th>\n",
       "      <td>6706435</td>\n",
       "      <td>4</td>\n",
       "      <td>AZ</td>\n",
       "    </tr>\n",
       "    <tr>\n",
       "      <th>Arkansas</th>\n",
       "      <td>2964800</td>\n",
       "      <td>5</td>\n",
       "      <td>AR</td>\n",
       "    </tr>\n",
       "    <tr>\n",
       "      <th>California</th>\n",
       "      <td>38701278</td>\n",
       "      <td>6</td>\n",
       "      <td>CA</td>\n",
       "    </tr>\n",
       "  </tbody>\n",
       "</table>\n",
       "</div>"
      ],
      "text/plain": [
       "            pop_2014  stfips postal\n",
       "state                              \n",
       "Alabama      4840037       1     AL\n",
       "Alaska        736759       2     AK\n",
       "Arizona      6706435       4     AZ\n",
       "Arkansas     2964800       5     AR\n",
       "California  38701278       6     CA"
      ]
     },
     "execution_count": 59,
     "metadata": {},
     "output_type": "execute_result"
    }
   ],
   "source": [
    "df_pop_codes = pd.concat([df_pop, df_codes], axis=1)\n",
    "df_pop_codes.head()"
   ]
  },
  {
   "cell_type": "code",
   "execution_count": 60,
   "metadata": {
    "collapsed": true
   },
   "outputs": [],
   "source": [
    "df_pop_codes.to_pickle (\"C:/Users/rmbrm/Documents/DS_WP/Dashboard/pop_and_codes\", compression='infer', protocol=4)"
   ]
  },
  {
   "cell_type": "code",
   "execution_count": 61,
   "metadata": {
    "collapsed": true
   },
   "outputs": [],
   "source": [
    "df_p_c_w = df_pop_codes.reset_index()"
   ]
  },
  {
   "cell_type": "code",
   "execution_count": 62,
   "metadata": {},
   "outputs": [
    {
     "data": {
      "text/html": [
       "<div>\n",
       "<style scoped>\n",
       "    .dataframe tbody tr th:only-of-type {\n",
       "        vertical-align: middle;\n",
       "    }\n",
       "\n",
       "    .dataframe tbody tr th {\n",
       "        vertical-align: top;\n",
       "    }\n",
       "\n",
       "    .dataframe thead th {\n",
       "        text-align: right;\n",
       "    }\n",
       "</style>\n",
       "<table border=\"1\" class=\"dataframe\">\n",
       "  <thead>\n",
       "    <tr style=\"text-align: right;\">\n",
       "      <th></th>\n",
       "      <th>state</th>\n",
       "      <th>pop_2014</th>\n",
       "      <th>postal</th>\n",
       "    </tr>\n",
       "    <tr>\n",
       "      <th>stfips</th>\n",
       "      <th></th>\n",
       "      <th></th>\n",
       "      <th></th>\n",
       "    </tr>\n",
       "  </thead>\n",
       "  <tbody>\n",
       "    <tr>\n",
       "      <th>1</th>\n",
       "      <td>Alabama</td>\n",
       "      <td>4840037</td>\n",
       "      <td>AL</td>\n",
       "    </tr>\n",
       "    <tr>\n",
       "      <th>2</th>\n",
       "      <td>Alaska</td>\n",
       "      <td>736759</td>\n",
       "      <td>AK</td>\n",
       "    </tr>\n",
       "    <tr>\n",
       "      <th>4</th>\n",
       "      <td>Arizona</td>\n",
       "      <td>6706435</td>\n",
       "      <td>AZ</td>\n",
       "    </tr>\n",
       "    <tr>\n",
       "      <th>5</th>\n",
       "      <td>Arkansas</td>\n",
       "      <td>2964800</td>\n",
       "      <td>AR</td>\n",
       "    </tr>\n",
       "    <tr>\n",
       "      <th>6</th>\n",
       "      <td>California</td>\n",
       "      <td>38701278</td>\n",
       "      <td>CA</td>\n",
       "    </tr>\n",
       "  </tbody>\n",
       "</table>\n",
       "</div>"
      ],
      "text/plain": [
       "             state  pop_2014 postal\n",
       "stfips                             \n",
       "1          Alabama   4840037     AL\n",
       "2           Alaska    736759     AK\n",
       "4          Arizona   6706435     AZ\n",
       "5         Arkansas   2964800     AR\n",
       "6       California  38701278     CA"
      ]
     },
     "execution_count": 62,
     "metadata": {},
     "output_type": "execute_result"
    }
   ],
   "source": [
    "df_p_c_f = df_p_c_w.set_index(['stfips'])\n",
    "df_p_c_f.head()"
   ]
  },
  {
   "cell_type": "code",
   "execution_count": 63,
   "metadata": {
    "collapsed": true
   },
   "outputs": [],
   "source": [
    "df_admits.set_index(['stfips'], inplace=True)"
   ]
  },
  {
   "cell_type": "code",
   "execution_count": 64,
   "metadata": {
    "collapsed": true
   },
   "outputs": [],
   "source": [
    "dfpct = pd.concat([df_p_c_f, df_admits], axis=1)"
   ]
  },
  {
   "cell_type": "code",
   "execution_count": 65,
   "metadata": {
    "collapsed": true
   },
   "outputs": [],
   "source": [
    "dfpct['percent'] = dfpct['admits_2014'] / dfpct['pop_2014']"
   ]
  },
  {
   "cell_type": "code",
   "execution_count": 66,
   "metadata": {
    "collapsed": true,
    "scrolled": false
   },
   "outputs": [],
   "source": [
    "dfpct_r = dfpct.round({'admits_2014': 0, 'percent': 2})"
   ]
  },
  {
   "cell_type": "code",
   "execution_count": 67,
   "metadata": {
    "collapsed": true
   },
   "outputs": [],
   "source": [
    "dfpct_r.to_pickle(\"C:/Users/rmbrm/Documents/DS_WP/Dashboard/percent_edited\", compression='infer', protocol=4)"
   ]
  },
  {
   "cell_type": "markdown",
   "metadata": {
    "collapsed": true
   },
   "source": [
    "#### At this point, data for five states were showing up as NaN. Stepping through the data wrangling, I identified the problem: The 2015, which was on a different website from the other files, was apparently not finalized, as it did not contain data from those states. So I redid the data wrangling with the most recent, complete data, data from 2014."
   ]
  },
  {
   "cell_type": "code",
   "execution_count": 68,
   "metadata": {
    "collapsed": true
   },
   "outputs": [],
   "source": [
    "substances = pd.read_pickle(\"C:/Users/rmbrm/Documents/DS_WP/Dashboard/map_data_3\")"
   ]
  },
  {
   "cell_type": "code",
   "execution_count": 69,
   "metadata": {
    "collapsed": true
   },
   "outputs": [],
   "source": [
    "percent = pd.read_pickle(\"C:/Users/rmbrm/Documents/DS_WP/Dashboard/percent_edited\")"
   ]
  },
  {
   "cell_type": "code",
   "execution_count": 70,
   "metadata": {
    "collapsed": true
   },
   "outputs": [],
   "source": [
    "# drop the state for which data is missing from the 2014 substance admissions data file, South Carolina\n",
    "percent.drop([45], inplace=True)"
   ]
  },
  {
   "cell_type": "code",
   "execution_count": 71,
   "metadata": {
    "collapsed": true
   },
   "outputs": [],
   "source": [
    "percent.drop(['state'], axis=1, inplace=True)"
   ]
  },
  {
   "cell_type": "code",
   "execution_count": 72,
   "metadata": {
    "collapsed": true
   },
   "outputs": [],
   "source": [
    "percent.reset_index(inplace=True)"
   ]
  },
  {
   "cell_type": "code",
   "execution_count": 73,
   "metadata": {
    "collapsed": true
   },
   "outputs": [],
   "source": [
    "substances.rename(index=str, columns={\"stfips\": \"state\"}, inplace=True)"
   ]
  },
  {
   "cell_type": "code",
   "execution_count": 74,
   "metadata": {
    "collapsed": true
   },
   "outputs": [],
   "source": [
    "substances.reset_index(inplace=True)"
   ]
  },
  {
   "cell_type": "code",
   "execution_count": 75,
   "metadata": {
    "collapsed": true
   },
   "outputs": [],
   "source": [
    "percent.reset_index(inplace=True)"
   ]
  },
  {
   "cell_type": "code",
   "execution_count": 76,
   "metadata": {
    "collapsed": true
   },
   "outputs": [],
   "source": [
    "dfmap = pd.concat([substances, percent], axis=1)"
   ]
  },
  {
   "cell_type": "code",
   "execution_count": 77,
   "metadata": {},
   "outputs": [
    {
     "data": {
      "text/html": [
       "<div>\n",
       "<style scoped>\n",
       "    .dataframe tbody tr th:only-of-type {\n",
       "        vertical-align: middle;\n",
       "    }\n",
       "\n",
       "    .dataframe tbody tr th {\n",
       "        vertical-align: top;\n",
       "    }\n",
       "\n",
       "    .dataframe thead th {\n",
       "        text-align: right;\n",
       "    }\n",
       "</style>\n",
       "<table border=\"1\" class=\"dataframe\">\n",
       "  <thead>\n",
       "    <tr style=\"text-align: right;\">\n",
       "      <th></th>\n",
       "      <th>state</th>\n",
       "      <th>pop_2014</th>\n",
       "      <th>postal</th>\n",
       "      <th>admits_2014</th>\n",
       "      <th>percent</th>\n",
       "    </tr>\n",
       "    <tr>\n",
       "      <th>stfips</th>\n",
       "      <th></th>\n",
       "      <th></th>\n",
       "      <th></th>\n",
       "      <th></th>\n",
       "      <th></th>\n",
       "    </tr>\n",
       "  </thead>\n",
       "  <tbody>\n",
       "    <tr>\n",
       "      <th>1</th>\n",
       "      <td>Alabama</td>\n",
       "      <td>4840037</td>\n",
       "      <td>AL</td>\n",
       "      <td>223631</td>\n",
       "      <td>0.046204</td>\n",
       "    </tr>\n",
       "    <tr>\n",
       "      <th>2</th>\n",
       "      <td>Alaska</td>\n",
       "      <td>736759</td>\n",
       "      <td>AK</td>\n",
       "      <td>28540</td>\n",
       "      <td>0.038737</td>\n",
       "    </tr>\n",
       "    <tr>\n",
       "      <th>4</th>\n",
       "      <td>Arizona</td>\n",
       "      <td>6706435</td>\n",
       "      <td>AZ</td>\n",
       "      <td>258949</td>\n",
       "      <td>0.038612</td>\n",
       "    </tr>\n",
       "    <tr>\n",
       "      <th>5</th>\n",
       "      <td>Arkansas</td>\n",
       "      <td>2964800</td>\n",
       "      <td>AR</td>\n",
       "      <td>169623</td>\n",
       "      <td>0.057212</td>\n",
       "    </tr>\n",
       "    <tr>\n",
       "      <th>6</th>\n",
       "      <td>California</td>\n",
       "      <td>38701278</td>\n",
       "      <td>CA</td>\n",
       "      <td>3119945</td>\n",
       "      <td>0.080616</td>\n",
       "    </tr>\n",
       "  </tbody>\n",
       "</table>\n",
       "</div>"
      ],
      "text/plain": [
       "             state  pop_2014 postal  admits_2014   percent\n",
       "stfips                                                    \n",
       "1          Alabama   4840037     AL       223631  0.046204\n",
       "2           Alaska    736759     AK        28540  0.038737\n",
       "4          Arizona   6706435     AZ       258949  0.038612\n",
       "5         Arkansas   2964800     AR       169623  0.057212\n",
       "6       California  38701278     CA      3119945  0.080616"
      ]
     },
     "execution_count": 77,
     "metadata": {},
     "output_type": "execute_result"
    }
   ],
   "source": [
    "dfpct.head()"
   ]
  },
  {
   "cell_type": "code",
   "execution_count": 78,
   "metadata": {
    "collapsed": true
   },
   "outputs": [],
   "source": [
    "dfmap.to_pickle(\"C:/Users/rmbrm/Documents/DS_WP/Dashboard/map_final\", compression='infer', protocol=4)"
   ]
  },
  {
   "cell_type": "code",
   "execution_count": 79,
   "metadata": {
    "collapsed": true
   },
   "outputs": [
    {
     "data": {
      "text/html": [
       "<script>requirejs.config({paths: { 'plotly': ['https://cdn.plot.ly/plotly-latest.min']},});if(!window.Plotly) {{require(['plotly'],function(plotly) {window.Plotly=plotly;});}}</script>"
      ],
      "text/vnd.plotly.v1+html": [
       "<script>requirejs.config({paths: { 'plotly': ['https://cdn.plot.ly/plotly-latest.min']},});if(!window.Plotly) {{require(['plotly'],function(plotly) {window.Plotly=plotly;});}}</script>"
      ]
     },
     "metadata": {},
     "output_type": "display_data"
    },
    {
     "name": "stderr",
     "output_type": "stream",
     "text": [
      "C:\\Users\\rmbrm\\Anaconda3\\lib\\site-packages\\plotly\\graph_objs\\_deprecations.py:558: DeprecationWarning:\n",
      "\n",
      "plotly.graph_objs.YAxis is deprecated.\n",
      "Please replace it with one of the following more specific types\n",
      "  - plotly.graph_objs.layout.YAxis\n",
      "  - plotly.graph_objs.layout.scene.YAxis\n",
      "\n",
      "\n",
      "C:\\Users\\rmbrm\\Anaconda3\\lib\\site-packages\\plotly\\graph_objs\\_deprecations.py:531: DeprecationWarning:\n",
      "\n",
      "plotly.graph_objs.XAxis is deprecated.\n",
      "Please replace it with one of the following more specific types\n",
      "  - plotly.graph_objs.layout.XAxis\n",
      "  - plotly.graph_objs.layout.scene.XAxis\n",
      "\n",
      "\n"
     ]
    }
   ],
   "source": [
    "import pandas as pd\n",
    "\n",
    "import plotly\n",
    "plotly.tools.set_credentials_file(username=\"Ross.Brown.Ph.D.\", api_key='yPNZCAkYOyi7wAKtZrSM')\n",
    "import plotly.plotly as py\n",
    "import plotly.offline as pyo\n",
    "# from plotly.graph_objs import *\n",
    "import plotly.plotly as py\n",
    "from plotly import __version__\n",
    "from plotly.offline import download_plotlyjs, init_notebook_mode, plot, iplot\n",
    "import plotly.graph_objs as go\n",
    "from plotly import tools\n",
    "from plotly.graph_objs import Bar, Data, Figure, Layout, Marker, Scatter\n",
    "init_notebook_mode(connected=True)\n",
    "import cufflinks as cf\n",
    "cf.set_config_file(offline=False, world_readable=True, theme='ggplot')"
   ]
  },
  {
   "cell_type": "code",
   "execution_count": 80,
   "metadata": {
    "collapsed": true
   },
   "outputs": [],
   "source": [
    "df = pd.read_pickle(\"C:/Users/rmbrm/Documents/DS_WP/Dashboard/map_final\")"
   ]
  },
  {
   "cell_type": "code",
   "execution_count": 81,
   "metadata": {},
   "outputs": [
    {
     "data": {
      "application/vnd.plotly.v1+json": {
       "data": [
        {
         "autocolorscale": false,
         "colorbar": {
          "title": "Substance Abuse <br>Admissions <br>(Percent of Population)"
         },
         "colorscale": [
          [
           0,
           "rgba(181, 189, 189, 0.8)"
          ],
          [
           0.33,
           "#8BBBD9"
          ],
          [
           0.66,
           "#2987D9"
          ],
          [
           1,
           "#012340"
          ]
         ],
         "locationmode": "USA-states",
         "locations": [
          "AL",
          "AK",
          "AZ",
          "AR",
          "CA",
          "CO",
          "CT",
          "DE",
          "DC",
          "FL",
          "GA",
          "HI",
          "ID",
          "IL",
          "IN",
          "IA",
          "KS",
          "KY",
          "LA",
          "ME",
          "MD",
          "MA",
          "MI",
          "MN",
          "MS",
          "MO",
          "MT",
          "NE",
          "NV",
          "NH",
          "NJ",
          "NM",
          "NY",
          "NC",
          "ND",
          "OH",
          "OK",
          "OR",
          "PA",
          "RI",
          "SD",
          "TN",
          "TX",
          "UT",
          "VT",
          "VA",
          "WA",
          "WV",
          "WI",
          "WY",
          "PR"
         ],
         "marker": {
          "line": {
           "color": "rgb(255,255,255)",
           "width": 2
          }
         },
         "text": [
          "admissions as % of Pop<br>Top Three:<br>Marijuana: 2187<br>Opiates: 1438<br>Meth: 1076",
          "admissions as % of Pop<br>Top Three:<br>Marijuana: 589<br>Heroin: 545<br>Meth: 317",
          "admissions as % of Pop<br>Top Three:<br>Meth: 4487<br>Heroin: 4082<br>Marijuana: 4033",
          "admissions as % of Pop<br>Top Three:<br>Meth: 1645<br>Marijuana: 1414<br>Opiates: 1312",
          "admissions as % of Pop<br>Top Three:<br>Meth: 48113<br>Heroin: 38285<br>Marijuana: 24379",
          "admissions as % of Pop<br>Top Three:<br>Meth: 9113<br>Marijuana: 6831<br>Heroin: 6204",
          "admissions as % of Pop<br>Top Three:<br>Heroin: 21770<br>Marijuana: 7852<br>Cocaine: 4305",
          "admissions as % of Pop<br>Top Three:<br>Heroin: 3388<br>Marijuana: 1057<br>Opiates: 660",
          "admissions as % of Pop<br>Top Three:<br>Heroin: 1257<br>Cocaine: 934<br>Marijuana: 607",
          "admissions as % of Pop<br>Top Three:<br>Opiates: 7662<br>Marijuana: 4773<br>Heroin: 3004",
          "admissions as % of Pop<br>Top Three:<br>Marijuana: 9109<br>Cocaine: 4700<br>Meth: 3645",
          "admissions as % of Pop<br>Top Three:<br>Meth: 2143<br>Marijuana: 1781<br>Opiates: 284",
          "admissions as % of Pop<br>Top Three:<br>Meth: 897<br>Marijuana: 448<br>Heroin: 159",
          "admissions as % of Pop<br>Top Three:<br>Heroin: 7237<br>Marijuana: 6513<br>Cocaine: 2152",
          "admissions as % of Pop<br>Top Three:<br>Marijuana: 5349<br>Heroin: 3147<br>Opiates: 3014",
          "admissions as % of Pop<br>Top Three:<br>Marijuana: 7494<br>Meth: 5524<br>Opiates: 1350",
          "admissions as % of Pop<br>Top Three:<br>Marijuana: 1782<br>Meth: 1675<br>Opiates: 417",
          "admissions as % of Pop<br>Top Three:<br>Heroin: 4264<br>Opiates: 3680<br>Marijuana: 2236",
          "admissions as % of Pop<br>Top Three:<br>Heroin: 1749<br>Opiates: 1260<br>Marijuana: 1242",
          "admissions as % of Pop<br>Top Three:<br>Heroin: 3178<br>Opiates: 2856<br>Marijuana: 806",
          "admissions as % of Pop<br>Top Three:<br>Heroin: 14475<br>Marijuana: 7395<br>Opiates: 3663",
          "admissions as % of Pop<br>Top Three:<br>Heroin: 45958<br>Opiates: 4158<br>Marijuana: 2652",
          "admissions as % of Pop<br>Top Three:<br>Heroin: 14645<br>Marijuana: 8981<br>Opiates: 7557",
          "admissions as % of Pop<br>Top Three:<br>Meth: 8677<br>Marijuana: 8487<br>Heroin: 5613",
          "admissions as % of Pop<br>Top Three:<br>Marijuana: 1084<br>Opiates: 545<br>Meth: 478",
          "admissions as % of Pop<br>Top Three:<br>Marijuana: 7993<br>Meth: 6198<br>Heroin: 4558",
          "admissions as % of Pop<br>Top Three:<br>Marijuana: 1096<br>Meth: 912<br>Opiates: 568",
          "admissions as % of Pop<br>Top Three:<br>Meth: 2050<br>Marijuana: 1275<br>Opiates: 581",
          "admissions as % of Pop<br>Top Three:<br>Meth: 2181<br>Marijuana: 1086<br>Heroin: 989",
          "admissions as % of Pop<br>Top Three:<br>Heroin: 1520<br>Opiates: 606<br>Marijuana: 363",
          "admissions as % of Pop<br>Top Three:<br>Heroin: 24147<br>Marijuana: 9164<br>Opiates: 4537",
          "admissions as % of Pop<br>Top Three:<br>Opiates: 628<br>Heroin: 513<br>Marijuana: 324",
          "admissions as % of Pop<br>Top Three:<br>Heroin: 79350<br>Marijuana: 42316<br>Cocaine: 23371",
          "admissions as % of Pop<br>Top Three:<br>Marijuana: 11503<br>Opiates: 5656<br>Cocaine: 4082",
          "admissions as % of Pop<br>Top Three:<br>Marijuana: 865<br>Meth: 634<br>Opiates: 242",
          "admissions as % of Pop<br>Top Three:<br>Heroin: 10415<br>Marijuana: 7446<br>Opiates: 3651",
          "admissions as % of Pop<br>Top Three:<br>Meth: 3205<br>Marijuana: 2677<br>Opiates: 1602",
          "admissions as % of Pop<br>Top Three:<br>Meth: 5338<br>Heroin: 5147<br>Marijuana: 3664",
          "admissions as % of Pop<br>Top Three:<br>Heroin: 15962<br>Marijuana: 5087<br>Opiates: 4647",
          "admissions as % of Pop<br>Top Three:<br>Heroin: 3868<br>Opiates: 1089<br>Marijuana: 978",
          "admissions as % of Pop<br>Top Three:<br>Marijuana: 1717<br>Meth: 920<br>Opiates: 372",
          "admissions as % of Pop<br>Top Three:<br>Opiates: 4463<br>Marijuana: 2385<br>Cocaine: 1358",
          "admissions as % of Pop<br>Top Three:<br>Marijuana: 8965<br>Heroin: 6083<br>Meth: 4808",
          "admissions as % of Pop<br>Top Three:<br>Meth: 2500<br>Heroin: 2286<br>Marijuana: 1947",
          "admissions as % of Pop<br>Top Three:<br>Heroin: 3175<br>Opiates: 2521<br>Marijuana: 1201",
          "admissions as % of Pop<br>Top Three:<br>Marijuana: 5416<br>Heroin: 2751<br>Opiates: 2611",
          "admissions as % of Pop<br>Top Three:<br>Heroin: 7260<br>Marijuana: 6977<br>Meth: 5165",
          "admissions as % of Pop<br>Top Three:<br>Opiates: 885<br>Heroin: 491<br>Marijuana: 471",
          "admissions as % of Pop<br>Top Three:<br>Heroin: 2191<br>Marijuana: 2016<br>Opiates: 1102",
          "admissions as % of Pop<br>Top Three:<br>Marijuana: 948<br>Meth: 747<br>Opiates: 320",
          "admissions as % of Pop<br>Top Three:<br>Heroin: 600<br>Marijuana: 500<br>Cocaine: 127"
         ],
         "type": "choropleth",
         "uid": "96ede8e8-f9e3-11e8-9c23-14abc5740b4d",
         "z": [
          0.05,
          0.04,
          0.04,
          0.06,
          0.08,
          0.07,
          0.19,
          0.11,
          0.07,
          0.05,
          0.04,
          0.06,
          0.04,
          0.06,
          0.04,
          0.09,
          0.06,
          0.05,
          0.07,
          0.09,
          0.15,
          0.15,
          0.08,
          0.08,
          0.02,
          0.09,
          0.06,
          0.04,
          0.04,
          0.04,
          0.11,
          0.04,
          0.17,
          0.05,
          0.03,
          0.08,
          0.05,
          0.12,
          0.06,
          0.15,
          0.07,
          0.02,
          0.02,
          0.06,
          0.11,
          0.05,
          0.07,
          0.03,
          0.02,
          0.07,
          0.01
         ]
        }
       ],
       "layout": {
        "annotations": [
         {
          "showarrow": false,
          "text": "Excluding alcohol. Data for South Carolina is unavailable",
          "x": 0.5004254919715793,
          "xref": "paper",
          "y": -0.16191064079952971,
          "yref": "paper"
         }
        ],
        "geo": {
         "lakecolor": "rgb(255, 255, 255)",
         "projection": {
          "type": "albers usa"
         },
         "scope": "usa",
         "showlakes": true
        }
       }
      },
      "text/html": [
       "<div id=\"46fdee92-7b12-4396-bf69-8e095234859a\" style=\"height: 525px; width: 100%;\" class=\"plotly-graph-div\"></div><script type=\"text/javascript\">require([\"plotly\"], function(Plotly) { window.PLOTLYENV=window.PLOTLYENV || {};window.PLOTLYENV.BASE_URL=\"https://plot.ly\";Plotly.newPlot(\"46fdee92-7b12-4396-bf69-8e095234859a\", [{\"autocolorscale\": false, \"colorbar\": {\"title\": \"Substance Abuse <br>Admissions <br>(Percent of Population)\"}, \"colorscale\": [[0.0, \"rgba(181, 189, 189, 0.8)\"], [0.33, \"#8BBBD9\"], [0.66, \"#2987D9\"], [1.0, \"#012340\"]], \"locationmode\": \"USA-states\", \"locations\": [\"AL\", \"AK\", \"AZ\", \"AR\", \"CA\", \"CO\", \"CT\", \"DE\", \"DC\", \"FL\", \"GA\", \"HI\", \"ID\", \"IL\", \"IN\", \"IA\", \"KS\", \"KY\", \"LA\", \"ME\", \"MD\", \"MA\", \"MI\", \"MN\", \"MS\", \"MO\", \"MT\", \"NE\", \"NV\", \"NH\", \"NJ\", \"NM\", \"NY\", \"NC\", \"ND\", \"OH\", \"OK\", \"OR\", \"PA\", \"RI\", \"SD\", \"TN\", \"TX\", \"UT\", \"VT\", \"VA\", \"WA\", \"WV\", \"WI\", \"WY\", \"PR\"], \"marker\": {\"line\": {\"color\": \"rgb(255,255,255)\", \"width\": 2}}, \"text\": [\"admissions as % of Pop<br>Top Three:<br>Marijuana: 2187<br>Opiates: 1438<br>Meth: 1076\", \"admissions as % of Pop<br>Top Three:<br>Marijuana: 589<br>Heroin: 545<br>Meth: 317\", \"admissions as % of Pop<br>Top Three:<br>Meth: 4487<br>Heroin: 4082<br>Marijuana: 4033\", \"admissions as % of Pop<br>Top Three:<br>Meth: 1645<br>Marijuana: 1414<br>Opiates: 1312\", \"admissions as % of Pop<br>Top Three:<br>Meth: 48113<br>Heroin: 38285<br>Marijuana: 24379\", \"admissions as % of Pop<br>Top Three:<br>Meth: 9113<br>Marijuana: 6831<br>Heroin: 6204\", \"admissions as % of Pop<br>Top Three:<br>Heroin: 21770<br>Marijuana: 7852<br>Cocaine: 4305\", \"admissions as % of Pop<br>Top Three:<br>Heroin: 3388<br>Marijuana: 1057<br>Opiates: 660\", \"admissions as % of Pop<br>Top Three:<br>Heroin: 1257<br>Cocaine: 934<br>Marijuana: 607\", \"admissions as % of Pop<br>Top Three:<br>Opiates: 7662<br>Marijuana: 4773<br>Heroin: 3004\", \"admissions as % of Pop<br>Top Three:<br>Marijuana: 9109<br>Cocaine: 4700<br>Meth: 3645\", \"admissions as % of Pop<br>Top Three:<br>Meth: 2143<br>Marijuana: 1781<br>Opiates: 284\", \"admissions as % of Pop<br>Top Three:<br>Meth: 897<br>Marijuana: 448<br>Heroin: 159\", \"admissions as % of Pop<br>Top Three:<br>Heroin: 7237<br>Marijuana: 6513<br>Cocaine: 2152\", \"admissions as % of Pop<br>Top Three:<br>Marijuana: 5349<br>Heroin: 3147<br>Opiates: 3014\", \"admissions as % of Pop<br>Top Three:<br>Marijuana: 7494<br>Meth: 5524<br>Opiates: 1350\", \"admissions as % of Pop<br>Top Three:<br>Marijuana: 1782<br>Meth: 1675<br>Opiates: 417\", \"admissions as % of Pop<br>Top Three:<br>Heroin: 4264<br>Opiates: 3680<br>Marijuana: 2236\", \"admissions as % of Pop<br>Top Three:<br>Heroin: 1749<br>Opiates: 1260<br>Marijuana: 1242\", \"admissions as % of Pop<br>Top Three:<br>Heroin: 3178<br>Opiates: 2856<br>Marijuana: 806\", \"admissions as % of Pop<br>Top Three:<br>Heroin: 14475<br>Marijuana: 7395<br>Opiates: 3663\", \"admissions as % of Pop<br>Top Three:<br>Heroin: 45958<br>Opiates: 4158<br>Marijuana: 2652\", \"admissions as % of Pop<br>Top Three:<br>Heroin: 14645<br>Marijuana: 8981<br>Opiates: 7557\", \"admissions as % of Pop<br>Top Three:<br>Meth: 8677<br>Marijuana: 8487<br>Heroin: 5613\", \"admissions as % of Pop<br>Top Three:<br>Marijuana: 1084<br>Opiates: 545<br>Meth: 478\", \"admissions as % of Pop<br>Top Three:<br>Marijuana: 7993<br>Meth: 6198<br>Heroin: 4558\", \"admissions as % of Pop<br>Top Three:<br>Marijuana: 1096<br>Meth: 912<br>Opiates: 568\", \"admissions as % of Pop<br>Top Three:<br>Meth: 2050<br>Marijuana: 1275<br>Opiates: 581\", \"admissions as % of Pop<br>Top Three:<br>Meth: 2181<br>Marijuana: 1086<br>Heroin: 989\", \"admissions as % of Pop<br>Top Three:<br>Heroin: 1520<br>Opiates: 606<br>Marijuana: 363\", \"admissions as % of Pop<br>Top Three:<br>Heroin: 24147<br>Marijuana: 9164<br>Opiates: 4537\", \"admissions as % of Pop<br>Top Three:<br>Opiates: 628<br>Heroin: 513<br>Marijuana: 324\", \"admissions as % of Pop<br>Top Three:<br>Heroin: 79350<br>Marijuana: 42316<br>Cocaine: 23371\", \"admissions as % of Pop<br>Top Three:<br>Marijuana: 11503<br>Opiates: 5656<br>Cocaine: 4082\", \"admissions as % of Pop<br>Top Three:<br>Marijuana: 865<br>Meth: 634<br>Opiates: 242\", \"admissions as % of Pop<br>Top Three:<br>Heroin: 10415<br>Marijuana: 7446<br>Opiates: 3651\", \"admissions as % of Pop<br>Top Three:<br>Meth: 3205<br>Marijuana: 2677<br>Opiates: 1602\", \"admissions as % of Pop<br>Top Three:<br>Meth: 5338<br>Heroin: 5147<br>Marijuana: 3664\", \"admissions as % of Pop<br>Top Three:<br>Heroin: 15962<br>Marijuana: 5087<br>Opiates: 4647\", \"admissions as % of Pop<br>Top Three:<br>Heroin: 3868<br>Opiates: 1089<br>Marijuana: 978\", \"admissions as % of Pop<br>Top Three:<br>Marijuana: 1717<br>Meth: 920<br>Opiates: 372\", \"admissions as % of Pop<br>Top Three:<br>Opiates: 4463<br>Marijuana: 2385<br>Cocaine: 1358\", \"admissions as % of Pop<br>Top Three:<br>Marijuana: 8965<br>Heroin: 6083<br>Meth: 4808\", \"admissions as % of Pop<br>Top Three:<br>Meth: 2500<br>Heroin: 2286<br>Marijuana: 1947\", \"admissions as % of Pop<br>Top Three:<br>Heroin: 3175<br>Opiates: 2521<br>Marijuana: 1201\", \"admissions as % of Pop<br>Top Three:<br>Marijuana: 5416<br>Heroin: 2751<br>Opiates: 2611\", \"admissions as % of Pop<br>Top Three:<br>Heroin: 7260<br>Marijuana: 6977<br>Meth: 5165\", \"admissions as % of Pop<br>Top Three:<br>Opiates: 885<br>Heroin: 491<br>Marijuana: 471\", \"admissions as % of Pop<br>Top Three:<br>Heroin: 2191<br>Marijuana: 2016<br>Opiates: 1102\", \"admissions as % of Pop<br>Top Three:<br>Marijuana: 948<br>Meth: 747<br>Opiates: 320\", \"admissions as % of Pop<br>Top Three:<br>Heroin: 600<br>Marijuana: 500<br>Cocaine: 127\"], \"z\": [0.05, 0.04, 0.04, 0.06, 0.08, 0.07, 0.19, 0.11, 0.07, 0.05, 0.04, 0.06, 0.04, 0.06, 0.04, 0.09, 0.06, 0.05, 0.07, 0.09, 0.15, 0.15, 0.08, 0.08, 0.02, 0.09, 0.06, 0.04, 0.04, 0.04, 0.11, 0.04, 0.17, 0.05, 0.03, 0.08, 0.05, 0.12, 0.06, 0.15, 0.07, 0.02, 0.02, 0.06, 0.11, 0.05, 0.07, 0.03, 0.02, 0.07, 0.01], \"type\": \"choropleth\", \"uid\": \"96ede8e8-f9e3-11e8-9c23-14abc5740b4d\"}], {\"annotations\": [{\"showarrow\": false, \"text\": \"Excluding alcohol. Data for South Carolina is unavailable\", \"x\": 0.5004254919715793, \"xref\": \"paper\", \"y\": -0.16191064079952971, \"yref\": \"paper\"}], \"geo\": {\"lakecolor\": \"rgb(255, 255, 255)\", \"projection\": {\"type\": \"albers usa\"}, \"scope\": \"usa\", \"showlakes\": true}}, {\"showLink\": true, \"linkText\": \"Export to plot.ly\"})});</script>"
      ],
      "text/vnd.plotly.v1+html": [
       "<div id=\"46fdee92-7b12-4396-bf69-8e095234859a\" style=\"height: 525px; width: 100%;\" class=\"plotly-graph-div\"></div><script type=\"text/javascript\">require([\"plotly\"], function(Plotly) { window.PLOTLYENV=window.PLOTLYENV || {};window.PLOTLYENV.BASE_URL=\"https://plot.ly\";Plotly.newPlot(\"46fdee92-7b12-4396-bf69-8e095234859a\", [{\"autocolorscale\": false, \"colorbar\": {\"title\": \"Substance Abuse <br>Admissions <br>(Percent of Population)\"}, \"colorscale\": [[0.0, \"rgba(181, 189, 189, 0.8)\"], [0.33, \"#8BBBD9\"], [0.66, \"#2987D9\"], [1.0, \"#012340\"]], \"locationmode\": \"USA-states\", \"locations\": [\"AL\", \"AK\", \"AZ\", \"AR\", \"CA\", \"CO\", \"CT\", \"DE\", \"DC\", \"FL\", \"GA\", \"HI\", \"ID\", \"IL\", \"IN\", \"IA\", \"KS\", \"KY\", \"LA\", \"ME\", \"MD\", \"MA\", \"MI\", \"MN\", \"MS\", \"MO\", \"MT\", \"NE\", \"NV\", \"NH\", \"NJ\", \"NM\", \"NY\", \"NC\", \"ND\", \"OH\", \"OK\", \"OR\", \"PA\", \"RI\", \"SD\", \"TN\", \"TX\", \"UT\", \"VT\", \"VA\", \"WA\", \"WV\", \"WI\", \"WY\", \"PR\"], \"marker\": {\"line\": {\"color\": \"rgb(255,255,255)\", \"width\": 2}}, \"text\": [\"admissions as % of Pop<br>Top Three:<br>Marijuana: 2187<br>Opiates: 1438<br>Meth: 1076\", \"admissions as % of Pop<br>Top Three:<br>Marijuana: 589<br>Heroin: 545<br>Meth: 317\", \"admissions as % of Pop<br>Top Three:<br>Meth: 4487<br>Heroin: 4082<br>Marijuana: 4033\", \"admissions as % of Pop<br>Top Three:<br>Meth: 1645<br>Marijuana: 1414<br>Opiates: 1312\", \"admissions as % of Pop<br>Top Three:<br>Meth: 48113<br>Heroin: 38285<br>Marijuana: 24379\", \"admissions as % of Pop<br>Top Three:<br>Meth: 9113<br>Marijuana: 6831<br>Heroin: 6204\", \"admissions as % of Pop<br>Top Three:<br>Heroin: 21770<br>Marijuana: 7852<br>Cocaine: 4305\", \"admissions as % of Pop<br>Top Three:<br>Heroin: 3388<br>Marijuana: 1057<br>Opiates: 660\", \"admissions as % of Pop<br>Top Three:<br>Heroin: 1257<br>Cocaine: 934<br>Marijuana: 607\", \"admissions as % of Pop<br>Top Three:<br>Opiates: 7662<br>Marijuana: 4773<br>Heroin: 3004\", \"admissions as % of Pop<br>Top Three:<br>Marijuana: 9109<br>Cocaine: 4700<br>Meth: 3645\", \"admissions as % of Pop<br>Top Three:<br>Meth: 2143<br>Marijuana: 1781<br>Opiates: 284\", \"admissions as % of Pop<br>Top Three:<br>Meth: 897<br>Marijuana: 448<br>Heroin: 159\", \"admissions as % of Pop<br>Top Three:<br>Heroin: 7237<br>Marijuana: 6513<br>Cocaine: 2152\", \"admissions as % of Pop<br>Top Three:<br>Marijuana: 5349<br>Heroin: 3147<br>Opiates: 3014\", \"admissions as % of Pop<br>Top Three:<br>Marijuana: 7494<br>Meth: 5524<br>Opiates: 1350\", \"admissions as % of Pop<br>Top Three:<br>Marijuana: 1782<br>Meth: 1675<br>Opiates: 417\", \"admissions as % of Pop<br>Top Three:<br>Heroin: 4264<br>Opiates: 3680<br>Marijuana: 2236\", \"admissions as % of Pop<br>Top Three:<br>Heroin: 1749<br>Opiates: 1260<br>Marijuana: 1242\", \"admissions as % of Pop<br>Top Three:<br>Heroin: 3178<br>Opiates: 2856<br>Marijuana: 806\", \"admissions as % of Pop<br>Top Three:<br>Heroin: 14475<br>Marijuana: 7395<br>Opiates: 3663\", \"admissions as % of Pop<br>Top Three:<br>Heroin: 45958<br>Opiates: 4158<br>Marijuana: 2652\", \"admissions as % of Pop<br>Top Three:<br>Heroin: 14645<br>Marijuana: 8981<br>Opiates: 7557\", \"admissions as % of Pop<br>Top Three:<br>Meth: 8677<br>Marijuana: 8487<br>Heroin: 5613\", \"admissions as % of Pop<br>Top Three:<br>Marijuana: 1084<br>Opiates: 545<br>Meth: 478\", \"admissions as % of Pop<br>Top Three:<br>Marijuana: 7993<br>Meth: 6198<br>Heroin: 4558\", \"admissions as % of Pop<br>Top Three:<br>Marijuana: 1096<br>Meth: 912<br>Opiates: 568\", \"admissions as % of Pop<br>Top Three:<br>Meth: 2050<br>Marijuana: 1275<br>Opiates: 581\", \"admissions as % of Pop<br>Top Three:<br>Meth: 2181<br>Marijuana: 1086<br>Heroin: 989\", \"admissions as % of Pop<br>Top Three:<br>Heroin: 1520<br>Opiates: 606<br>Marijuana: 363\", \"admissions as % of Pop<br>Top Three:<br>Heroin: 24147<br>Marijuana: 9164<br>Opiates: 4537\", \"admissions as % of Pop<br>Top Three:<br>Opiates: 628<br>Heroin: 513<br>Marijuana: 324\", \"admissions as % of Pop<br>Top Three:<br>Heroin: 79350<br>Marijuana: 42316<br>Cocaine: 23371\", \"admissions as % of Pop<br>Top Three:<br>Marijuana: 11503<br>Opiates: 5656<br>Cocaine: 4082\", \"admissions as % of Pop<br>Top Three:<br>Marijuana: 865<br>Meth: 634<br>Opiates: 242\", \"admissions as % of Pop<br>Top Three:<br>Heroin: 10415<br>Marijuana: 7446<br>Opiates: 3651\", \"admissions as % of Pop<br>Top Three:<br>Meth: 3205<br>Marijuana: 2677<br>Opiates: 1602\", \"admissions as % of Pop<br>Top Three:<br>Meth: 5338<br>Heroin: 5147<br>Marijuana: 3664\", \"admissions as % of Pop<br>Top Three:<br>Heroin: 15962<br>Marijuana: 5087<br>Opiates: 4647\", \"admissions as % of Pop<br>Top Three:<br>Heroin: 3868<br>Opiates: 1089<br>Marijuana: 978\", \"admissions as % of Pop<br>Top Three:<br>Marijuana: 1717<br>Meth: 920<br>Opiates: 372\", \"admissions as % of Pop<br>Top Three:<br>Opiates: 4463<br>Marijuana: 2385<br>Cocaine: 1358\", \"admissions as % of Pop<br>Top Three:<br>Marijuana: 8965<br>Heroin: 6083<br>Meth: 4808\", \"admissions as % of Pop<br>Top Three:<br>Meth: 2500<br>Heroin: 2286<br>Marijuana: 1947\", \"admissions as % of Pop<br>Top Three:<br>Heroin: 3175<br>Opiates: 2521<br>Marijuana: 1201\", \"admissions as % of Pop<br>Top Three:<br>Marijuana: 5416<br>Heroin: 2751<br>Opiates: 2611\", \"admissions as % of Pop<br>Top Three:<br>Heroin: 7260<br>Marijuana: 6977<br>Meth: 5165\", \"admissions as % of Pop<br>Top Three:<br>Opiates: 885<br>Heroin: 491<br>Marijuana: 471\", \"admissions as % of Pop<br>Top Three:<br>Heroin: 2191<br>Marijuana: 2016<br>Opiates: 1102\", \"admissions as % of Pop<br>Top Three:<br>Marijuana: 948<br>Meth: 747<br>Opiates: 320\", \"admissions as % of Pop<br>Top Three:<br>Heroin: 600<br>Marijuana: 500<br>Cocaine: 127\"], \"z\": [0.05, 0.04, 0.04, 0.06, 0.08, 0.07, 0.19, 0.11, 0.07, 0.05, 0.04, 0.06, 0.04, 0.06, 0.04, 0.09, 0.06, 0.05, 0.07, 0.09, 0.15, 0.15, 0.08, 0.08, 0.02, 0.09, 0.06, 0.04, 0.04, 0.04, 0.11, 0.04, 0.17, 0.05, 0.03, 0.08, 0.05, 0.12, 0.06, 0.15, 0.07, 0.02, 0.02, 0.06, 0.11, 0.05, 0.07, 0.03, 0.02, 0.07, 0.01], \"type\": \"choropleth\", \"uid\": \"96ede8e8-f9e3-11e8-9c23-14abc5740b4d\"}], {\"annotations\": [{\"showarrow\": false, \"text\": \"Excluding alcohol. Data for South Carolina is unavailable\", \"x\": 0.5004254919715793, \"xref\": \"paper\", \"y\": -0.16191064079952971, \"yref\": \"paper\"}], \"geo\": {\"lakecolor\": \"rgb(255, 255, 255)\", \"projection\": {\"type\": \"albers usa\"}, \"scope\": \"usa\", \"showlakes\": true}}, {\"showLink\": true, \"linkText\": \"Export to plot.ly\"})});</script>"
      ]
     },
     "metadata": {},
     "output_type": "display_data"
    }
   ],
   "source": [
    "#for col in df.columns:\n",
    "#    df[col] = df[col].astype(str)\n",
    "\n",
    "scl = [[0.0, 'rgba(181, 189, 189, 0.8)'],[0.33, '#8BBBD9'],[0.66, '#2987D9'],\\\n",
    "            [1.0, '#012340']]\n",
    "\n",
    "df['text'] = 'admissions as % of Pop' + '<br>' +\\\n",
    "    'Top Three:' + '<br>' +\\\n",
    "    df['first'] + '<br>' +\\\n",
    "    df['second'] + '<br>' +\\\n",
    "    df['third']\n",
    "    \n",
    "data = [ dict(\n",
    "        type='choropleth',\n",
    "        colorscale = scl,\n",
    "        autocolorscale = False,\n",
    "        locations = df['postal'],\n",
    "        z = df['percent'].astype(float),\n",
    "        locationmode = 'USA-states',\n",
    "        text = df['text'],\n",
    "        marker = dict(\n",
    "            line = dict (\n",
    "                color = 'rgb(255,255,255)',\n",
    "                width = 2\n",
    "            ) ),\n",
    "        colorbar = dict(\n",
    "            title = \"Substance Abuse <br>Admissions <br>(Percent of Population)\")\n",
    "        ) ]\n",
    "\n",
    "layout = dict(\n",
    "        geo = dict(\n",
    "            scope='usa',\n",
    "            projection=dict( type='albers usa' ),\n",
    "            showlakes = True,\n",
    "            lakecolor = 'rgb(255, 255, 255)'),\n",
    "        annotations = [\n",
    "            dict(\n",
    "            x=0.5004254919715793,\n",
    "            y=-0.16191064079952971,\n",
    "            showarrow=False,\n",
    "            text='Excluding alcohol. Data for South Carolina is unavailable',\n",
    "            xref='paper',\n",
    "            yref='paper'\n",
    "            )\n",
    "        ]\n",
    ")\n",
    "\n",
    "\n",
    "\n",
    "fig = go.Figure(data=data, layout=layout)\n",
    "pyo.iplot(fig)"
   ]
  }
 ],
 "metadata": {
  "kernelspec": {
   "display_name": "Python 3",
   "language": "python",
   "name": "python3"
  },
  "language_info": {
   "codemirror_mode": {
    "name": "ipython",
    "version": 3
   },
   "file_extension": ".py",
   "mimetype": "text/x-python",
   "name": "python",
   "nbconvert_exporter": "python",
   "pygments_lexer": "ipython3",
   "version": "3.6.3"
  }
 },
 "nbformat": 4,
 "nbformat_minor": 2
}
